{
 "cells": [
  {
   "cell_type": "markdown",
   "metadata": {
    "id": "GteYUTHvkZtc"
   },
   "source": [
    "# EE-411 Fundamentals of inference and learning, EPFL \n",
    "## Exercice Session 1: looking at data with python and pandas\n",
    "\n",
    "In this first set of exercices, we will start the course by solving some simple python problems that will help you warm up for the future. We advise you to run python notebooks on your browser, for instance using google colab (Watch <a href=\"https://https://www.youtube.com/watch?v=RLYoEyIHL6A\">Introduction to Colab</a> to find out more) or our own serveur in epfl (on <a href=\"https://noto.epfl.ch/\">noto.epfl.ch</a>). If you need to refresh your python skills, you may start by our introductory notebooks [here](https://github.com/IdePHICS/FundamentalLearningEPFL2021/blob/main/TP0/Intro%20to%20Python.ipynb) and [there](https://github.com/IdePHICS/FundamentalLearningEPFL2021/blob/main/TP0/Visualization.ipynb).\n",
    "\n",
    "**What you will learn today:** In this first session, we will discuss briefly how to use python, how to use pandas (a powerful, and easy to use, open source data analysis and manipulation tool), and discuss the idea of permutation test and bootstrap, that are amazingly useful concepts from statistics.\n",
    "\n"
   ]
  },
  {
   "cell_type": "markdown",
   "metadata": {
    "id": "izBv5XTukZth"
   },
   "source": [
    "# The Brexit data: who wanted out?"
   ]
  },
  {
   "cell_type": "markdown",
   "metadata": {
    "id": "BTGq_uJZkZth"
   },
   "source": [
    "\n",
    "We will introduce the concept of permutation test in the hypothesis testing problem exploiting a cool analysis on the Brexit referendum following this great resource https://matthew-brett.github.io/les-pilot/brexit_ages.html. This will give us the opportunity to review the basic functionalities of pandas, a pivotal package in data-handling which we will find often during this course. In fact, you may want to follow an introduction to pandas (for instance [this one](https://www.learndatasci.com/tutorials/python-pandas-tutorial-complete-introduction-for-beginners/), or the very useful [Most Important Pandas Functions for Data Science](https://www.analyticsvidhya.com/blog/2021/05/pandas-functions-13-most-important/)\n",
    ").\n",
    "\n",
    "Here is our problem: The Hansard society made a poll in the 2016 interviewing 1771 people on the Brexit referendum  (data available here https://beta.ukdataservice.ac.uk/datacatalogue/studies/study?id=8183).\n"
   ]
  },
  {
   "cell_type": "markdown",
   "metadata": {
    "id": "pWSuVuGJkZti"
   },
   "source": [
    "If we dig into the data, we see that the average age of the \"Brexiteers\" is higher from the one of the \"Remainers\". \n",
    "We are interested in addressing the following question: how $\\textbf{confident}$ can we be that this rule is general and is not an artifact due to low sample size? \n"
   ]
  },
  {
   "cell_type": "markdown",
   "metadata": {
    "id": "0t4De2E4kZti"
   },
   "source": [
    "This problem falls in the broader context of hypothesis testing problem:\n",
    "\n",
    "* Hypothesis (H1) - effective difference in the age of Brexiteers and Remainers \n",
    "                       \n",
    "                         vs \n",
    "                         \n",
    "* \"Null hypothesis\" (H0) - no difference in the age of the two groups\n",
    "\n",
    "This seems like a hard problem but we will see that with a very simple idea we will be able to characterize the answer. Let's proceed by small steps and let's understand how to handle a dataset with pandas.\n"
   ]
  },
  {
   "cell_type": "markdown",
   "metadata": {
    "id": "ef6-VdzBkZtj"
   },
   "source": [
    "### $\\color{darkblue}{\\text{Data-handling with pandas }}$ "
   ]
  },
  {
   "cell_type": "code",
   "execution_count": null,
   "metadata": {
    "id": "AeFbJQYWkZtj"
   },
   "outputs": [],
   "source": [
    "# Let's import the package \n",
    "import pandas as pd"
   ]
  },
  {
   "cell_type": "code",
   "execution_count": null,
   "metadata": {
    "id": "sYU8MEOCkZtk"
   },
   "outputs": [],
   "source": [
    "# Read data using pd.read_csv obtaining a \"data frame\" (df) object\n",
    "data_raw = pd.read_csv('https://raw.githubusercontent.com/IdePHICS/FundamentalLearningEPFL2021/main/TP1/audit_of_political_engagement_14_2017.tab', sep = '\\t')"
   ]
  },
  {
   "cell_type": "markdown",
   "metadata": {
    "id": "ZBy3sb8HkZtl"
   },
   "source": [
    "The way pandas datas is presented look messy at first. It is called a **dataframe**. By printing the data frame, this is what we see:"
   ]
  },
  {
   "cell_type": "code",
   "execution_count": null,
   "metadata": {
    "colab": {
     "base_uri": "https://localhost:8080/",
     "height": 443
    },
    "executionInfo": {
     "elapsed": 323,
     "status": "ok",
     "timestamp": 1632861153043,
     "user": {
      "displayName": "davide ghio",
      "photoUrl": "https://lh3.googleusercontent.com/a/default-user=s64",
      "userId": "16033550004002351519"
     },
     "user_tz": -120
    },
    "id": "0_vuPZcQkZtl",
    "outputId": "65681df7-5092-4cbf-ff44-e43f10d599f9",
    "scrolled": true
   },
   "outputs": [
    {
     "data": {
      "text/html": [
       "<div>\n",
       "<style scoped>\n",
       "    .dataframe tbody tr th:only-of-type {\n",
       "        vertical-align: middle;\n",
       "    }\n",
       "\n",
       "    .dataframe tbody tr th {\n",
       "        vertical-align: top;\n",
       "    }\n",
       "\n",
       "    .dataframe thead th {\n",
       "        text-align: right;\n",
       "    }\n",
       "</style>\n",
       "<table border=\"1\" class=\"dataframe\">\n",
       "  <thead>\n",
       "    <tr style=\"text-align: right;\">\n",
       "      <th></th>\n",
       "      <th>cu041</th>\n",
       "      <th>cu042</th>\n",
       "      <th>cu043</th>\n",
       "      <th>cu044</th>\n",
       "      <th>cu045</th>\n",
       "      <th>cu046</th>\n",
       "      <th>cu047</th>\n",
       "      <th>cu048</th>\n",
       "      <th>cu049</th>\n",
       "      <th>cu0410</th>\n",
       "      <th>cu0411</th>\n",
       "      <th>cu0412</th>\n",
       "      <th>cu0413</th>\n",
       "      <th>cu0414</th>\n",
       "      <th>cu0415</th>\n",
       "      <th>cu051</th>\n",
       "      <th>cu052</th>\n",
       "      <th>cu053</th>\n",
       "      <th>cu054</th>\n",
       "      <th>cu055</th>\n",
       "      <th>cu056</th>\n",
       "      <th>cu057</th>\n",
       "      <th>cu058</th>\n",
       "      <th>cu059</th>\n",
       "      <th>cu0510</th>\n",
       "      <th>cu0511</th>\n",
       "      <th>cu0512</th>\n",
       "      <th>cu0513</th>\n",
       "      <th>cu0514</th>\n",
       "      <th>cu0515</th>\n",
       "      <th>cu06</th>\n",
       "      <th>cu07_1</th>\n",
       "      <th>cu07_2</th>\n",
       "      <th>cu07_3</th>\n",
       "      <th>cu08</th>\n",
       "      <th>cu08a</th>\n",
       "      <th>cu09</th>\n",
       "      <th>cu09a</th>\n",
       "      <th>cu10_1</th>\n",
       "      <th>cu10_2</th>\n",
       "      <th>...</th>\n",
       "      <th>sunday2</th>\n",
       "      <th>sunday3</th>\n",
       "      <th>sunday4</th>\n",
       "      <th>sunday5</th>\n",
       "      <th>sunday6</th>\n",
       "      <th>sunday7</th>\n",
       "      <th>sunday8</th>\n",
       "      <th>sunday9</th>\n",
       "      <th>sunday10</th>\n",
       "      <th>sunday11</th>\n",
       "      <th>sunday12</th>\n",
       "      <th>sunday13</th>\n",
       "      <th>sunday14</th>\n",
       "      <th>sunday15</th>\n",
       "      <th>sunday16</th>\n",
       "      <th>sunday17</th>\n",
       "      <th>sunday18</th>\n",
       "      <th>sunday19</th>\n",
       "      <th>sunday20</th>\n",
       "      <th>tenure</th>\n",
       "      <th>tennet</th>\n",
       "      <th>income</th>\n",
       "      <th>income3</th>\n",
       "      <th>dethnin</th>\n",
       "      <th>ethnic</th>\n",
       "      <th>lstage</th>\n",
       "      <th>netfq</th>\n",
       "      <th>gor</th>\n",
       "      <th>qual</th>\n",
       "      <th>dbroad</th>\n",
       "      <th>intten</th>\n",
       "      <th>cx_971_980</th>\n",
       "      <th>serial</th>\n",
       "      <th>week</th>\n",
       "      <th>wts</th>\n",
       "      <th>numage</th>\n",
       "      <th>weight0</th>\n",
       "      <th>sgrade_grp</th>\n",
       "      <th>age_grp</th>\n",
       "      <th>region2</th>\n",
       "    </tr>\n",
       "  </thead>\n",
       "  <tbody>\n",
       "    <tr>\n",
       "      <th>0</th>\n",
       "      <td>0</td>\n",
       "      <td>0</td>\n",
       "      <td>0</td>\n",
       "      <td>0</td>\n",
       "      <td>1</td>\n",
       "      <td>1</td>\n",
       "      <td>0</td>\n",
       "      <td>0</td>\n",
       "      <td>0</td>\n",
       "      <td>0</td>\n",
       "      <td>1</td>\n",
       "      <td>0</td>\n",
       "      <td>0</td>\n",
       "      <td>0</td>\n",
       "      <td>0</td>\n",
       "      <td>1</td>\n",
       "      <td>0</td>\n",
       "      <td>0</td>\n",
       "      <td>1</td>\n",
       "      <td>1</td>\n",
       "      <td>1</td>\n",
       "      <td>0</td>\n",
       "      <td>1</td>\n",
       "      <td>0</td>\n",
       "      <td>0</td>\n",
       "      <td>1</td>\n",
       "      <td>1</td>\n",
       "      <td>1</td>\n",
       "      <td>0</td>\n",
       "      <td>0</td>\n",
       "      <td>2</td>\n",
       "      <td>3</td>\n",
       "      <td>2</td>\n",
       "      <td>3</td>\n",
       "      <td>2</td>\n",
       "      <td>3</td>\n",
       "      <td>4</td>\n",
       "      <td>4</td>\n",
       "      <td>3</td>\n",
       "      <td>4</td>\n",
       "      <td>...</td>\n",
       "      <td>-1</td>\n",
       "      <td>-1</td>\n",
       "      <td>-1</td>\n",
       "      <td>-1</td>\n",
       "      <td>-1</td>\n",
       "      <td>-1</td>\n",
       "      <td>-1</td>\n",
       "      <td>-1</td>\n",
       "      <td>-1</td>\n",
       "      <td>-1</td>\n",
       "      <td>-1</td>\n",
       "      <td>-1</td>\n",
       "      <td>-1</td>\n",
       "      <td>-1</td>\n",
       "      <td>-1</td>\n",
       "      <td>-1</td>\n",
       "      <td>-1</td>\n",
       "      <td>-1</td>\n",
       "      <td>-1</td>\n",
       "      <td>1</td>\n",
       "      <td>1</td>\n",
       "      <td>14</td>\n",
       "      <td>5</td>\n",
       "      <td>1</td>\n",
       "      <td>1</td>\n",
       "      <td>3</td>\n",
       "      <td>1</td>\n",
       "      <td>11</td>\n",
       "      <td>3</td>\n",
       "      <td>-1</td>\n",
       "      <td>-1</td>\n",
       "      <td>3.41659</td>\n",
       "      <td>1399</td>\n",
       "      <td>648</td>\n",
       "      <td>3.41659</td>\n",
       "      <td>37</td>\n",
       "      <td>3.41659</td>\n",
       "      <td>1</td>\n",
       "      <td>4</td>\n",
       "      <td>3</td>\n",
       "    </tr>\n",
       "    <tr>\n",
       "      <th>1</th>\n",
       "      <td>0</td>\n",
       "      <td>0</td>\n",
       "      <td>0</td>\n",
       "      <td>0</td>\n",
       "      <td>0</td>\n",
       "      <td>0</td>\n",
       "      <td>0</td>\n",
       "      <td>0</td>\n",
       "      <td>0</td>\n",
       "      <td>1</td>\n",
       "      <td>1</td>\n",
       "      <td>0</td>\n",
       "      <td>0</td>\n",
       "      <td>0</td>\n",
       "      <td>0</td>\n",
       "      <td>0</td>\n",
       "      <td>0</td>\n",
       "      <td>0</td>\n",
       "      <td>0</td>\n",
       "      <td>0</td>\n",
       "      <td>0</td>\n",
       "      <td>0</td>\n",
       "      <td>0</td>\n",
       "      <td>0</td>\n",
       "      <td>1</td>\n",
       "      <td>0</td>\n",
       "      <td>0</td>\n",
       "      <td>0</td>\n",
       "      <td>0</td>\n",
       "      <td>0</td>\n",
       "      <td>3</td>\n",
       "      <td>2</td>\n",
       "      <td>3</td>\n",
       "      <td>2</td>\n",
       "      <td>2</td>\n",
       "      <td>2</td>\n",
       "      <td>4</td>\n",
       "      <td>3</td>\n",
       "      <td>1</td>\n",
       "      <td>2</td>\n",
       "      <td>...</td>\n",
       "      <td>-1</td>\n",
       "      <td>-1</td>\n",
       "      <td>-1</td>\n",
       "      <td>-1</td>\n",
       "      <td>-1</td>\n",
       "      <td>-1</td>\n",
       "      <td>-1</td>\n",
       "      <td>-1</td>\n",
       "      <td>-1</td>\n",
       "      <td>-1</td>\n",
       "      <td>-1</td>\n",
       "      <td>-1</td>\n",
       "      <td>-1</td>\n",
       "      <td>-1</td>\n",
       "      <td>-1</td>\n",
       "      <td>-1</td>\n",
       "      <td>-1</td>\n",
       "      <td>-1</td>\n",
       "      <td>-1</td>\n",
       "      <td>1</td>\n",
       "      <td>1</td>\n",
       "      <td>12</td>\n",
       "      <td>5</td>\n",
       "      <td>1</td>\n",
       "      <td>1</td>\n",
       "      <td>4</td>\n",
       "      <td>1</td>\n",
       "      <td>5</td>\n",
       "      <td>3</td>\n",
       "      <td>-1</td>\n",
       "      <td>-1</td>\n",
       "      <td>2.68198</td>\n",
       "      <td>1733</td>\n",
       "      <td>648</td>\n",
       "      <td>2.68198</td>\n",
       "      <td>55</td>\n",
       "      <td>2.68198</td>\n",
       "      <td>2</td>\n",
       "      <td>6</td>\n",
       "      <td>3</td>\n",
       "    </tr>\n",
       "    <tr>\n",
       "      <th>2</th>\n",
       "      <td>0</td>\n",
       "      <td>0</td>\n",
       "      <td>0</td>\n",
       "      <td>0</td>\n",
       "      <td>1</td>\n",
       "      <td>0</td>\n",
       "      <td>0</td>\n",
       "      <td>0</td>\n",
       "      <td>0</td>\n",
       "      <td>0</td>\n",
       "      <td>1</td>\n",
       "      <td>0</td>\n",
       "      <td>0</td>\n",
       "      <td>0</td>\n",
       "      <td>0</td>\n",
       "      <td>1</td>\n",
       "      <td>0</td>\n",
       "      <td>0</td>\n",
       "      <td>1</td>\n",
       "      <td>1</td>\n",
       "      <td>0</td>\n",
       "      <td>0</td>\n",
       "      <td>0</td>\n",
       "      <td>0</td>\n",
       "      <td>0</td>\n",
       "      <td>1</td>\n",
       "      <td>1</td>\n",
       "      <td>0</td>\n",
       "      <td>0</td>\n",
       "      <td>0</td>\n",
       "      <td>2</td>\n",
       "      <td>2</td>\n",
       "      <td>2</td>\n",
       "      <td>2</td>\n",
       "      <td>2</td>\n",
       "      <td>2</td>\n",
       "      <td>2</td>\n",
       "      <td>1</td>\n",
       "      <td>2</td>\n",
       "      <td>2</td>\n",
       "      <td>...</td>\n",
       "      <td>-1</td>\n",
       "      <td>-1</td>\n",
       "      <td>-1</td>\n",
       "      <td>-1</td>\n",
       "      <td>-1</td>\n",
       "      <td>-1</td>\n",
       "      <td>-1</td>\n",
       "      <td>-1</td>\n",
       "      <td>-1</td>\n",
       "      <td>-1</td>\n",
       "      <td>-1</td>\n",
       "      <td>-1</td>\n",
       "      <td>-1</td>\n",
       "      <td>-1</td>\n",
       "      <td>-1</td>\n",
       "      <td>-1</td>\n",
       "      <td>-1</td>\n",
       "      <td>-1</td>\n",
       "      <td>-1</td>\n",
       "      <td>2</td>\n",
       "      <td>1</td>\n",
       "      <td>10</td>\n",
       "      <td>5</td>\n",
       "      <td>1</td>\n",
       "      <td>1</td>\n",
       "      <td>4</td>\n",
       "      <td>2</td>\n",
       "      <td>10</td>\n",
       "      <td>1</td>\n",
       "      <td>-1</td>\n",
       "      <td>-1</td>\n",
       "      <td>0.79379</td>\n",
       "      <td>1736</td>\n",
       "      <td>648</td>\n",
       "      <td>0.79379</td>\n",
       "      <td>71</td>\n",
       "      <td>0.79379</td>\n",
       "      <td>2</td>\n",
       "      <td>7</td>\n",
       "      <td>4</td>\n",
       "    </tr>\n",
       "    <tr>\n",
       "      <th>3</th>\n",
       "      <td>0</td>\n",
       "      <td>0</td>\n",
       "      <td>0</td>\n",
       "      <td>0</td>\n",
       "      <td>1</td>\n",
       "      <td>0</td>\n",
       "      <td>1</td>\n",
       "      <td>0</td>\n",
       "      <td>0</td>\n",
       "      <td>0</td>\n",
       "      <td>1</td>\n",
       "      <td>1</td>\n",
       "      <td>0</td>\n",
       "      <td>0</td>\n",
       "      <td>0</td>\n",
       "      <td>1</td>\n",
       "      <td>1</td>\n",
       "      <td>1</td>\n",
       "      <td>1</td>\n",
       "      <td>1</td>\n",
       "      <td>0</td>\n",
       "      <td>1</td>\n",
       "      <td>0</td>\n",
       "      <td>0</td>\n",
       "      <td>1</td>\n",
       "      <td>1</td>\n",
       "      <td>1</td>\n",
       "      <td>1</td>\n",
       "      <td>0</td>\n",
       "      <td>0</td>\n",
       "      <td>1</td>\n",
       "      <td>2</td>\n",
       "      <td>2</td>\n",
       "      <td>2</td>\n",
       "      <td>3</td>\n",
       "      <td>4</td>\n",
       "      <td>3</td>\n",
       "      <td>4</td>\n",
       "      <td>2</td>\n",
       "      <td>3</td>\n",
       "      <td>...</td>\n",
       "      <td>-1</td>\n",
       "      <td>-1</td>\n",
       "      <td>-1</td>\n",
       "      <td>-1</td>\n",
       "      <td>-1</td>\n",
       "      <td>-1</td>\n",
       "      <td>-1</td>\n",
       "      <td>-1</td>\n",
       "      <td>-1</td>\n",
       "      <td>-1</td>\n",
       "      <td>-1</td>\n",
       "      <td>-1</td>\n",
       "      <td>-1</td>\n",
       "      <td>-1</td>\n",
       "      <td>-1</td>\n",
       "      <td>-1</td>\n",
       "      <td>-1</td>\n",
       "      <td>-1</td>\n",
       "      <td>-1</td>\n",
       "      <td>1</td>\n",
       "      <td>1</td>\n",
       "      <td>12</td>\n",
       "      <td>5</td>\n",
       "      <td>1</td>\n",
       "      <td>1</td>\n",
       "      <td>3</td>\n",
       "      <td>1</td>\n",
       "      <td>10</td>\n",
       "      <td>4</td>\n",
       "      <td>-1</td>\n",
       "      <td>-1</td>\n",
       "      <td>1.40580</td>\n",
       "      <td>1737</td>\n",
       "      <td>648</td>\n",
       "      <td>1.40580</td>\n",
       "      <td>37</td>\n",
       "      <td>1.40580</td>\n",
       "      <td>1</td>\n",
       "      <td>4</td>\n",
       "      <td>4</td>\n",
       "    </tr>\n",
       "    <tr>\n",
       "      <th>4</th>\n",
       "      <td>0</td>\n",
       "      <td>0</td>\n",
       "      <td>0</td>\n",
       "      <td>1</td>\n",
       "      <td>1</td>\n",
       "      <td>0</td>\n",
       "      <td>1</td>\n",
       "      <td>0</td>\n",
       "      <td>0</td>\n",
       "      <td>0</td>\n",
       "      <td>1</td>\n",
       "      <td>1</td>\n",
       "      <td>0</td>\n",
       "      <td>0</td>\n",
       "      <td>0</td>\n",
       "      <td>0</td>\n",
       "      <td>0</td>\n",
       "      <td>0</td>\n",
       "      <td>1</td>\n",
       "      <td>1</td>\n",
       "      <td>1</td>\n",
       "      <td>1</td>\n",
       "      <td>0</td>\n",
       "      <td>0</td>\n",
       "      <td>0</td>\n",
       "      <td>1</td>\n",
       "      <td>0</td>\n",
       "      <td>1</td>\n",
       "      <td>0</td>\n",
       "      <td>0</td>\n",
       "      <td>2</td>\n",
       "      <td>1</td>\n",
       "      <td>1</td>\n",
       "      <td>2</td>\n",
       "      <td>4</td>\n",
       "      <td>1</td>\n",
       "      <td>4</td>\n",
       "      <td>1</td>\n",
       "      <td>3</td>\n",
       "      <td>4</td>\n",
       "      <td>...</td>\n",
       "      <td>-1</td>\n",
       "      <td>-1</td>\n",
       "      <td>-1</td>\n",
       "      <td>-1</td>\n",
       "      <td>-1</td>\n",
       "      <td>-1</td>\n",
       "      <td>-1</td>\n",
       "      <td>-1</td>\n",
       "      <td>-1</td>\n",
       "      <td>-1</td>\n",
       "      <td>-1</td>\n",
       "      <td>-1</td>\n",
       "      <td>-1</td>\n",
       "      <td>-1</td>\n",
       "      <td>-1</td>\n",
       "      <td>-1</td>\n",
       "      <td>-1</td>\n",
       "      <td>-1</td>\n",
       "      <td>-1</td>\n",
       "      <td>1</td>\n",
       "      <td>1</td>\n",
       "      <td>13</td>\n",
       "      <td>5</td>\n",
       "      <td>1</td>\n",
       "      <td>1</td>\n",
       "      <td>3</td>\n",
       "      <td>1</td>\n",
       "      <td>10</td>\n",
       "      <td>2</td>\n",
       "      <td>-1</td>\n",
       "      <td>-1</td>\n",
       "      <td>0.89475</td>\n",
       "      <td>1738</td>\n",
       "      <td>648</td>\n",
       "      <td>0.89475</td>\n",
       "      <td>42</td>\n",
       "      <td>0.89475</td>\n",
       "      <td>2</td>\n",
       "      <td>4</td>\n",
       "      <td>4</td>\n",
       "    </tr>\n",
       "    <tr>\n",
       "      <th>...</th>\n",
       "      <td>...</td>\n",
       "      <td>...</td>\n",
       "      <td>...</td>\n",
       "      <td>...</td>\n",
       "      <td>...</td>\n",
       "      <td>...</td>\n",
       "      <td>...</td>\n",
       "      <td>...</td>\n",
       "      <td>...</td>\n",
       "      <td>...</td>\n",
       "      <td>...</td>\n",
       "      <td>...</td>\n",
       "      <td>...</td>\n",
       "      <td>...</td>\n",
       "      <td>...</td>\n",
       "      <td>...</td>\n",
       "      <td>...</td>\n",
       "      <td>...</td>\n",
       "      <td>...</td>\n",
       "      <td>...</td>\n",
       "      <td>...</td>\n",
       "      <td>...</td>\n",
       "      <td>...</td>\n",
       "      <td>...</td>\n",
       "      <td>...</td>\n",
       "      <td>...</td>\n",
       "      <td>...</td>\n",
       "      <td>...</td>\n",
       "      <td>...</td>\n",
       "      <td>...</td>\n",
       "      <td>...</td>\n",
       "      <td>...</td>\n",
       "      <td>...</td>\n",
       "      <td>...</td>\n",
       "      <td>...</td>\n",
       "      <td>...</td>\n",
       "      <td>...</td>\n",
       "      <td>...</td>\n",
       "      <td>...</td>\n",
       "      <td>...</td>\n",
       "      <td>...</td>\n",
       "      <td>...</td>\n",
       "      <td>...</td>\n",
       "      <td>...</td>\n",
       "      <td>...</td>\n",
       "      <td>...</td>\n",
       "      <td>...</td>\n",
       "      <td>...</td>\n",
       "      <td>...</td>\n",
       "      <td>...</td>\n",
       "      <td>...</td>\n",
       "      <td>...</td>\n",
       "      <td>...</td>\n",
       "      <td>...</td>\n",
       "      <td>...</td>\n",
       "      <td>...</td>\n",
       "      <td>...</td>\n",
       "      <td>...</td>\n",
       "      <td>...</td>\n",
       "      <td>...</td>\n",
       "      <td>...</td>\n",
       "      <td>...</td>\n",
       "      <td>...</td>\n",
       "      <td>...</td>\n",
       "      <td>...</td>\n",
       "      <td>...</td>\n",
       "      <td>...</td>\n",
       "      <td>...</td>\n",
       "      <td>...</td>\n",
       "      <td>...</td>\n",
       "      <td>...</td>\n",
       "      <td>...</td>\n",
       "      <td>...</td>\n",
       "      <td>...</td>\n",
       "      <td>...</td>\n",
       "      <td>...</td>\n",
       "      <td>...</td>\n",
       "      <td>...</td>\n",
       "      <td>...</td>\n",
       "      <td>...</td>\n",
       "      <td>...</td>\n",
       "    </tr>\n",
       "    <tr>\n",
       "      <th>1766</th>\n",
       "      <td>0</td>\n",
       "      <td>0</td>\n",
       "      <td>0</td>\n",
       "      <td>0</td>\n",
       "      <td>0</td>\n",
       "      <td>0</td>\n",
       "      <td>0</td>\n",
       "      <td>0</td>\n",
       "      <td>0</td>\n",
       "      <td>0</td>\n",
       "      <td>1</td>\n",
       "      <td>0</td>\n",
       "      <td>0</td>\n",
       "      <td>0</td>\n",
       "      <td>0</td>\n",
       "      <td>0</td>\n",
       "      <td>0</td>\n",
       "      <td>0</td>\n",
       "      <td>1</td>\n",
       "      <td>0</td>\n",
       "      <td>0</td>\n",
       "      <td>0</td>\n",
       "      <td>0</td>\n",
       "      <td>0</td>\n",
       "      <td>0</td>\n",
       "      <td>0</td>\n",
       "      <td>0</td>\n",
       "      <td>0</td>\n",
       "      <td>0</td>\n",
       "      <td>0</td>\n",
       "      <td>4</td>\n",
       "      <td>2</td>\n",
       "      <td>2</td>\n",
       "      <td>3</td>\n",
       "      <td>3</td>\n",
       "      <td>4</td>\n",
       "      <td>3</td>\n",
       "      <td>3</td>\n",
       "      <td>2</td>\n",
       "      <td>3</td>\n",
       "      <td>...</td>\n",
       "      <td>0</td>\n",
       "      <td>0</td>\n",
       "      <td>0</td>\n",
       "      <td>0</td>\n",
       "      <td>0</td>\n",
       "      <td>0</td>\n",
       "      <td>0</td>\n",
       "      <td>0</td>\n",
       "      <td>0</td>\n",
       "      <td>0</td>\n",
       "      <td>0</td>\n",
       "      <td>0</td>\n",
       "      <td>0</td>\n",
       "      <td>0</td>\n",
       "      <td>0</td>\n",
       "      <td>0</td>\n",
       "      <td>0</td>\n",
       "      <td>1</td>\n",
       "      <td>0</td>\n",
       "      <td>4</td>\n",
       "      <td>2</td>\n",
       "      <td>17</td>\n",
       "      <td>-1</td>\n",
       "      <td>2</td>\n",
       "      <td>10</td>\n",
       "      <td>3</td>\n",
       "      <td>1</td>\n",
       "      <td>10</td>\n",
       "      <td>5</td>\n",
       "      <td>3</td>\n",
       "      <td>9</td>\n",
       "      <td>0.44339</td>\n",
       "      <td>3423</td>\n",
       "      <td>649</td>\n",
       "      <td>0.44339</td>\n",
       "      <td>39</td>\n",
       "      <td>0.44339</td>\n",
       "      <td>1</td>\n",
       "      <td>4</td>\n",
       "      <td>4</td>\n",
       "    </tr>\n",
       "    <tr>\n",
       "      <th>1767</th>\n",
       "      <td>0</td>\n",
       "      <td>0</td>\n",
       "      <td>0</td>\n",
       "      <td>0</td>\n",
       "      <td>0</td>\n",
       "      <td>0</td>\n",
       "      <td>0</td>\n",
       "      <td>0</td>\n",
       "      <td>0</td>\n",
       "      <td>0</td>\n",
       "      <td>0</td>\n",
       "      <td>0</td>\n",
       "      <td>0</td>\n",
       "      <td>0</td>\n",
       "      <td>1</td>\n",
       "      <td>0</td>\n",
       "      <td>0</td>\n",
       "      <td>0</td>\n",
       "      <td>0</td>\n",
       "      <td>0</td>\n",
       "      <td>0</td>\n",
       "      <td>0</td>\n",
       "      <td>0</td>\n",
       "      <td>0</td>\n",
       "      <td>0</td>\n",
       "      <td>0</td>\n",
       "      <td>0</td>\n",
       "      <td>0</td>\n",
       "      <td>0</td>\n",
       "      <td>1</td>\n",
       "      <td>4</td>\n",
       "      <td>4</td>\n",
       "      <td>4</td>\n",
       "      <td>4</td>\n",
       "      <td>5</td>\n",
       "      <td>3</td>\n",
       "      <td>3</td>\n",
       "      <td>3</td>\n",
       "      <td>2</td>\n",
       "      <td>4</td>\n",
       "      <td>...</td>\n",
       "      <td>0</td>\n",
       "      <td>0</td>\n",
       "      <td>0</td>\n",
       "      <td>0</td>\n",
       "      <td>0</td>\n",
       "      <td>0</td>\n",
       "      <td>0</td>\n",
       "      <td>0</td>\n",
       "      <td>0</td>\n",
       "      <td>0</td>\n",
       "      <td>0</td>\n",
       "      <td>0</td>\n",
       "      <td>0</td>\n",
       "      <td>0</td>\n",
       "      <td>0</td>\n",
       "      <td>0</td>\n",
       "      <td>0</td>\n",
       "      <td>1</td>\n",
       "      <td>0</td>\n",
       "      <td>5</td>\n",
       "      <td>2</td>\n",
       "      <td>17</td>\n",
       "      <td>-1</td>\n",
       "      <td>1</td>\n",
       "      <td>4</td>\n",
       "      <td>3</td>\n",
       "      <td>1</td>\n",
       "      <td>10</td>\n",
       "      <td>1</td>\n",
       "      <td>3</td>\n",
       "      <td>9</td>\n",
       "      <td>0.44086</td>\n",
       "      <td>3425</td>\n",
       "      <td>649</td>\n",
       "      <td>0.44086</td>\n",
       "      <td>20</td>\n",
       "      <td>0.44086</td>\n",
       "      <td>3</td>\n",
       "      <td>2</td>\n",
       "      <td>4</td>\n",
       "    </tr>\n",
       "    <tr>\n",
       "      <th>1768</th>\n",
       "      <td>0</td>\n",
       "      <td>0</td>\n",
       "      <td>0</td>\n",
       "      <td>0</td>\n",
       "      <td>0</td>\n",
       "      <td>0</td>\n",
       "      <td>0</td>\n",
       "      <td>0</td>\n",
       "      <td>0</td>\n",
       "      <td>0</td>\n",
       "      <td>1</td>\n",
       "      <td>0</td>\n",
       "      <td>0</td>\n",
       "      <td>0</td>\n",
       "      <td>0</td>\n",
       "      <td>0</td>\n",
       "      <td>0</td>\n",
       "      <td>0</td>\n",
       "      <td>0</td>\n",
       "      <td>0</td>\n",
       "      <td>0</td>\n",
       "      <td>0</td>\n",
       "      <td>0</td>\n",
       "      <td>0</td>\n",
       "      <td>0</td>\n",
       "      <td>1</td>\n",
       "      <td>0</td>\n",
       "      <td>0</td>\n",
       "      <td>0</td>\n",
       "      <td>0</td>\n",
       "      <td>4</td>\n",
       "      <td>4</td>\n",
       "      <td>4</td>\n",
       "      <td>4</td>\n",
       "      <td>4</td>\n",
       "      <td>6</td>\n",
       "      <td>6</td>\n",
       "      <td>6</td>\n",
       "      <td>6</td>\n",
       "      <td>6</td>\n",
       "      <td>...</td>\n",
       "      <td>0</td>\n",
       "      <td>0</td>\n",
       "      <td>0</td>\n",
       "      <td>0</td>\n",
       "      <td>0</td>\n",
       "      <td>0</td>\n",
       "      <td>0</td>\n",
       "      <td>0</td>\n",
       "      <td>0</td>\n",
       "      <td>0</td>\n",
       "      <td>0</td>\n",
       "      <td>0</td>\n",
       "      <td>0</td>\n",
       "      <td>0</td>\n",
       "      <td>0</td>\n",
       "      <td>0</td>\n",
       "      <td>0</td>\n",
       "      <td>1</td>\n",
       "      <td>0</td>\n",
       "      <td>2</td>\n",
       "      <td>1</td>\n",
       "      <td>17</td>\n",
       "      <td>-1</td>\n",
       "      <td>2</td>\n",
       "      <td>10</td>\n",
       "      <td>3</td>\n",
       "      <td>1</td>\n",
       "      <td>10</td>\n",
       "      <td>1</td>\n",
       "      <td>-1</td>\n",
       "      <td>9</td>\n",
       "      <td>0.32590</td>\n",
       "      <td>3426</td>\n",
       "      <td>649</td>\n",
       "      <td>0.32590</td>\n",
       "      <td>31</td>\n",
       "      <td>0.32590</td>\n",
       "      <td>3</td>\n",
       "      <td>3</td>\n",
       "      <td>4</td>\n",
       "    </tr>\n",
       "    <tr>\n",
       "      <th>1769</th>\n",
       "      <td>0</td>\n",
       "      <td>0</td>\n",
       "      <td>0</td>\n",
       "      <td>0</td>\n",
       "      <td>0</td>\n",
       "      <td>0</td>\n",
       "      <td>0</td>\n",
       "      <td>0</td>\n",
       "      <td>0</td>\n",
       "      <td>0</td>\n",
       "      <td>1</td>\n",
       "      <td>0</td>\n",
       "      <td>0</td>\n",
       "      <td>0</td>\n",
       "      <td>0</td>\n",
       "      <td>0</td>\n",
       "      <td>0</td>\n",
       "      <td>0</td>\n",
       "      <td>0</td>\n",
       "      <td>0</td>\n",
       "      <td>0</td>\n",
       "      <td>0</td>\n",
       "      <td>0</td>\n",
       "      <td>0</td>\n",
       "      <td>0</td>\n",
       "      <td>0</td>\n",
       "      <td>0</td>\n",
       "      <td>0</td>\n",
       "      <td>1</td>\n",
       "      <td>0</td>\n",
       "      <td>3</td>\n",
       "      <td>3</td>\n",
       "      <td>4</td>\n",
       "      <td>4</td>\n",
       "      <td>2</td>\n",
       "      <td>4</td>\n",
       "      <td>1</td>\n",
       "      <td>3</td>\n",
       "      <td>4</td>\n",
       "      <td>4</td>\n",
       "      <td>...</td>\n",
       "      <td>0</td>\n",
       "      <td>0</td>\n",
       "      <td>0</td>\n",
       "      <td>0</td>\n",
       "      <td>0</td>\n",
       "      <td>0</td>\n",
       "      <td>0</td>\n",
       "      <td>0</td>\n",
       "      <td>0</td>\n",
       "      <td>0</td>\n",
       "      <td>0</td>\n",
       "      <td>0</td>\n",
       "      <td>0</td>\n",
       "      <td>0</td>\n",
       "      <td>0</td>\n",
       "      <td>0</td>\n",
       "      <td>0</td>\n",
       "      <td>1</td>\n",
       "      <td>0</td>\n",
       "      <td>2</td>\n",
       "      <td>1</td>\n",
       "      <td>17</td>\n",
       "      <td>-1</td>\n",
       "      <td>2</td>\n",
       "      <td>10</td>\n",
       "      <td>4</td>\n",
       "      <td>1</td>\n",
       "      <td>10</td>\n",
       "      <td>1</td>\n",
       "      <td>-1</td>\n",
       "      <td>9</td>\n",
       "      <td>0.66970</td>\n",
       "      <td>3427</td>\n",
       "      <td>649</td>\n",
       "      <td>0.66970</td>\n",
       "      <td>47</td>\n",
       "      <td>0.66970</td>\n",
       "      <td>4</td>\n",
       "      <td>5</td>\n",
       "      <td>4</td>\n",
       "    </tr>\n",
       "    <tr>\n",
       "      <th>1770</th>\n",
       "      <td>0</td>\n",
       "      <td>0</td>\n",
       "      <td>0</td>\n",
       "      <td>0</td>\n",
       "      <td>0</td>\n",
       "      <td>0</td>\n",
       "      <td>0</td>\n",
       "      <td>0</td>\n",
       "      <td>0</td>\n",
       "      <td>0</td>\n",
       "      <td>0</td>\n",
       "      <td>0</td>\n",
       "      <td>0</td>\n",
       "      <td>0</td>\n",
       "      <td>1</td>\n",
       "      <td>1</td>\n",
       "      <td>0</td>\n",
       "      <td>0</td>\n",
       "      <td>0</td>\n",
       "      <td>0</td>\n",
       "      <td>0</td>\n",
       "      <td>0</td>\n",
       "      <td>0</td>\n",
       "      <td>0</td>\n",
       "      <td>0</td>\n",
       "      <td>0</td>\n",
       "      <td>0</td>\n",
       "      <td>0</td>\n",
       "      <td>0</td>\n",
       "      <td>0</td>\n",
       "      <td>4</td>\n",
       "      <td>3</td>\n",
       "      <td>3</td>\n",
       "      <td>2</td>\n",
       "      <td>2</td>\n",
       "      <td>2</td>\n",
       "      <td>3</td>\n",
       "      <td>2</td>\n",
       "      <td>2</td>\n",
       "      <td>3</td>\n",
       "      <td>...</td>\n",
       "      <td>0</td>\n",
       "      <td>0</td>\n",
       "      <td>0</td>\n",
       "      <td>0</td>\n",
       "      <td>0</td>\n",
       "      <td>0</td>\n",
       "      <td>0</td>\n",
       "      <td>0</td>\n",
       "      <td>0</td>\n",
       "      <td>0</td>\n",
       "      <td>0</td>\n",
       "      <td>0</td>\n",
       "      <td>0</td>\n",
       "      <td>0</td>\n",
       "      <td>0</td>\n",
       "      <td>0</td>\n",
       "      <td>0</td>\n",
       "      <td>1</td>\n",
       "      <td>0</td>\n",
       "      <td>3</td>\n",
       "      <td>2</td>\n",
       "      <td>9</td>\n",
       "      <td>4</td>\n",
       "      <td>2</td>\n",
       "      <td>15</td>\n",
       "      <td>3</td>\n",
       "      <td>1</td>\n",
       "      <td>2</td>\n",
       "      <td>3</td>\n",
       "      <td>-1</td>\n",
       "      <td>9</td>\n",
       "      <td>0.39478</td>\n",
       "      <td>3434</td>\n",
       "      <td>649</td>\n",
       "      <td>0.39478</td>\n",
       "      <td>25</td>\n",
       "      <td>0.39478</td>\n",
       "      <td>4</td>\n",
       "      <td>3</td>\n",
       "      <td>4</td>\n",
       "    </tr>\n",
       "  </tbody>\n",
       "</table>\n",
       "<p>1771 rows × 370 columns</p>\n",
       "</div>"
      ],
      "text/plain": [
       "      cu041  cu042  cu043  cu044  ...  weight0  sgrade_grp  age_grp  region2\n",
       "0         0      0      0      0  ...  3.41659           1        4        3\n",
       "1         0      0      0      0  ...  2.68198           2        6        3\n",
       "2         0      0      0      0  ...  0.79379           2        7        4\n",
       "3         0      0      0      0  ...  1.40580           1        4        4\n",
       "4         0      0      0      1  ...  0.89475           2        4        4\n",
       "...     ...    ...    ...    ...  ...      ...         ...      ...      ...\n",
       "1766      0      0      0      0  ...  0.44339           1        4        4\n",
       "1767      0      0      0      0  ...  0.44086           3        2        4\n",
       "1768      0      0      0      0  ...  0.32590           3        3        4\n",
       "1769      0      0      0      0  ...  0.66970           4        5        4\n",
       "1770      0      0      0      0  ...  0.39478           4        3        4\n",
       "\n",
       "[1771 rows x 370 columns]"
      ]
     },
     "execution_count": 3,
     "metadata": {},
     "output_type": "execute_result"
    }
   ],
   "source": [
    "data_raw"
   ]
  },
  {
   "cell_type": "markdown",
   "metadata": {
    "id": "DvJwVB7qJ6YX"
   },
   "source": [
    "Typically, one would start by looking the first lines, using:"
   ]
  },
  {
   "cell_type": "code",
   "execution_count": null,
   "metadata": {
    "colab": {
     "base_uri": "https://localhost:8080/",
     "height": 255
    },
    "executionInfo": {
     "elapsed": 365,
     "status": "ok",
     "timestamp": 1632861154208,
     "user": {
      "displayName": "davide ghio",
      "photoUrl": "https://lh3.googleusercontent.com/a/default-user=s64",
      "userId": "16033550004002351519"
     },
     "user_tz": -120
    },
    "id": "75gXc8cXJ5gY",
    "outputId": "90ffad76-3406-42cd-f420-12726c262628"
   },
   "outputs": [
    {
     "data": {
      "text/html": [
       "<div>\n",
       "<style scoped>\n",
       "    .dataframe tbody tr th:only-of-type {\n",
       "        vertical-align: middle;\n",
       "    }\n",
       "\n",
       "    .dataframe tbody tr th {\n",
       "        vertical-align: top;\n",
       "    }\n",
       "\n",
       "    .dataframe thead th {\n",
       "        text-align: right;\n",
       "    }\n",
       "</style>\n",
       "<table border=\"1\" class=\"dataframe\">\n",
       "  <thead>\n",
       "    <tr style=\"text-align: right;\">\n",
       "      <th></th>\n",
       "      <th>cu041</th>\n",
       "      <th>cu042</th>\n",
       "      <th>cu043</th>\n",
       "      <th>cu044</th>\n",
       "      <th>cu045</th>\n",
       "      <th>cu046</th>\n",
       "      <th>cu047</th>\n",
       "      <th>cu048</th>\n",
       "      <th>cu049</th>\n",
       "      <th>cu0410</th>\n",
       "      <th>cu0411</th>\n",
       "      <th>cu0412</th>\n",
       "      <th>cu0413</th>\n",
       "      <th>cu0414</th>\n",
       "      <th>cu0415</th>\n",
       "      <th>cu051</th>\n",
       "      <th>cu052</th>\n",
       "      <th>cu053</th>\n",
       "      <th>cu054</th>\n",
       "      <th>cu055</th>\n",
       "      <th>cu056</th>\n",
       "      <th>cu057</th>\n",
       "      <th>cu058</th>\n",
       "      <th>cu059</th>\n",
       "      <th>cu0510</th>\n",
       "      <th>cu0511</th>\n",
       "      <th>cu0512</th>\n",
       "      <th>cu0513</th>\n",
       "      <th>cu0514</th>\n",
       "      <th>cu0515</th>\n",
       "      <th>cu06</th>\n",
       "      <th>cu07_1</th>\n",
       "      <th>cu07_2</th>\n",
       "      <th>cu07_3</th>\n",
       "      <th>cu08</th>\n",
       "      <th>cu08a</th>\n",
       "      <th>cu09</th>\n",
       "      <th>cu09a</th>\n",
       "      <th>cu10_1</th>\n",
       "      <th>cu10_2</th>\n",
       "      <th>...</th>\n",
       "      <th>sunday2</th>\n",
       "      <th>sunday3</th>\n",
       "      <th>sunday4</th>\n",
       "      <th>sunday5</th>\n",
       "      <th>sunday6</th>\n",
       "      <th>sunday7</th>\n",
       "      <th>sunday8</th>\n",
       "      <th>sunday9</th>\n",
       "      <th>sunday10</th>\n",
       "      <th>sunday11</th>\n",
       "      <th>sunday12</th>\n",
       "      <th>sunday13</th>\n",
       "      <th>sunday14</th>\n",
       "      <th>sunday15</th>\n",
       "      <th>sunday16</th>\n",
       "      <th>sunday17</th>\n",
       "      <th>sunday18</th>\n",
       "      <th>sunday19</th>\n",
       "      <th>sunday20</th>\n",
       "      <th>tenure</th>\n",
       "      <th>tennet</th>\n",
       "      <th>income</th>\n",
       "      <th>income3</th>\n",
       "      <th>dethnin</th>\n",
       "      <th>ethnic</th>\n",
       "      <th>lstage</th>\n",
       "      <th>netfq</th>\n",
       "      <th>gor</th>\n",
       "      <th>qual</th>\n",
       "      <th>dbroad</th>\n",
       "      <th>intten</th>\n",
       "      <th>cx_971_980</th>\n",
       "      <th>serial</th>\n",
       "      <th>week</th>\n",
       "      <th>wts</th>\n",
       "      <th>numage</th>\n",
       "      <th>weight0</th>\n",
       "      <th>sgrade_grp</th>\n",
       "      <th>age_grp</th>\n",
       "      <th>region2</th>\n",
       "    </tr>\n",
       "  </thead>\n",
       "  <tbody>\n",
       "    <tr>\n",
       "      <th>0</th>\n",
       "      <td>0</td>\n",
       "      <td>0</td>\n",
       "      <td>0</td>\n",
       "      <td>0</td>\n",
       "      <td>1</td>\n",
       "      <td>1</td>\n",
       "      <td>0</td>\n",
       "      <td>0</td>\n",
       "      <td>0</td>\n",
       "      <td>0</td>\n",
       "      <td>1</td>\n",
       "      <td>0</td>\n",
       "      <td>0</td>\n",
       "      <td>0</td>\n",
       "      <td>0</td>\n",
       "      <td>1</td>\n",
       "      <td>0</td>\n",
       "      <td>0</td>\n",
       "      <td>1</td>\n",
       "      <td>1</td>\n",
       "      <td>1</td>\n",
       "      <td>0</td>\n",
       "      <td>1</td>\n",
       "      <td>0</td>\n",
       "      <td>0</td>\n",
       "      <td>1</td>\n",
       "      <td>1</td>\n",
       "      <td>1</td>\n",
       "      <td>0</td>\n",
       "      <td>0</td>\n",
       "      <td>2</td>\n",
       "      <td>3</td>\n",
       "      <td>2</td>\n",
       "      <td>3</td>\n",
       "      <td>2</td>\n",
       "      <td>3</td>\n",
       "      <td>4</td>\n",
       "      <td>4</td>\n",
       "      <td>3</td>\n",
       "      <td>4</td>\n",
       "      <td>...</td>\n",
       "      <td>-1</td>\n",
       "      <td>-1</td>\n",
       "      <td>-1</td>\n",
       "      <td>-1</td>\n",
       "      <td>-1</td>\n",
       "      <td>-1</td>\n",
       "      <td>-1</td>\n",
       "      <td>-1</td>\n",
       "      <td>-1</td>\n",
       "      <td>-1</td>\n",
       "      <td>-1</td>\n",
       "      <td>-1</td>\n",
       "      <td>-1</td>\n",
       "      <td>-1</td>\n",
       "      <td>-1</td>\n",
       "      <td>-1</td>\n",
       "      <td>-1</td>\n",
       "      <td>-1</td>\n",
       "      <td>-1</td>\n",
       "      <td>1</td>\n",
       "      <td>1</td>\n",
       "      <td>14</td>\n",
       "      <td>5</td>\n",
       "      <td>1</td>\n",
       "      <td>1</td>\n",
       "      <td>3</td>\n",
       "      <td>1</td>\n",
       "      <td>11</td>\n",
       "      <td>3</td>\n",
       "      <td>-1</td>\n",
       "      <td>-1</td>\n",
       "      <td>3.41659</td>\n",
       "      <td>1399</td>\n",
       "      <td>648</td>\n",
       "      <td>3.41659</td>\n",
       "      <td>37</td>\n",
       "      <td>3.41659</td>\n",
       "      <td>1</td>\n",
       "      <td>4</td>\n",
       "      <td>3</td>\n",
       "    </tr>\n",
       "    <tr>\n",
       "      <th>1</th>\n",
       "      <td>0</td>\n",
       "      <td>0</td>\n",
       "      <td>0</td>\n",
       "      <td>0</td>\n",
       "      <td>0</td>\n",
       "      <td>0</td>\n",
       "      <td>0</td>\n",
       "      <td>0</td>\n",
       "      <td>0</td>\n",
       "      <td>1</td>\n",
       "      <td>1</td>\n",
       "      <td>0</td>\n",
       "      <td>0</td>\n",
       "      <td>0</td>\n",
       "      <td>0</td>\n",
       "      <td>0</td>\n",
       "      <td>0</td>\n",
       "      <td>0</td>\n",
       "      <td>0</td>\n",
       "      <td>0</td>\n",
       "      <td>0</td>\n",
       "      <td>0</td>\n",
       "      <td>0</td>\n",
       "      <td>0</td>\n",
       "      <td>1</td>\n",
       "      <td>0</td>\n",
       "      <td>0</td>\n",
       "      <td>0</td>\n",
       "      <td>0</td>\n",
       "      <td>0</td>\n",
       "      <td>3</td>\n",
       "      <td>2</td>\n",
       "      <td>3</td>\n",
       "      <td>2</td>\n",
       "      <td>2</td>\n",
       "      <td>2</td>\n",
       "      <td>4</td>\n",
       "      <td>3</td>\n",
       "      <td>1</td>\n",
       "      <td>2</td>\n",
       "      <td>...</td>\n",
       "      <td>-1</td>\n",
       "      <td>-1</td>\n",
       "      <td>-1</td>\n",
       "      <td>-1</td>\n",
       "      <td>-1</td>\n",
       "      <td>-1</td>\n",
       "      <td>-1</td>\n",
       "      <td>-1</td>\n",
       "      <td>-1</td>\n",
       "      <td>-1</td>\n",
       "      <td>-1</td>\n",
       "      <td>-1</td>\n",
       "      <td>-1</td>\n",
       "      <td>-1</td>\n",
       "      <td>-1</td>\n",
       "      <td>-1</td>\n",
       "      <td>-1</td>\n",
       "      <td>-1</td>\n",
       "      <td>-1</td>\n",
       "      <td>1</td>\n",
       "      <td>1</td>\n",
       "      <td>12</td>\n",
       "      <td>5</td>\n",
       "      <td>1</td>\n",
       "      <td>1</td>\n",
       "      <td>4</td>\n",
       "      <td>1</td>\n",
       "      <td>5</td>\n",
       "      <td>3</td>\n",
       "      <td>-1</td>\n",
       "      <td>-1</td>\n",
       "      <td>2.68198</td>\n",
       "      <td>1733</td>\n",
       "      <td>648</td>\n",
       "      <td>2.68198</td>\n",
       "      <td>55</td>\n",
       "      <td>2.68198</td>\n",
       "      <td>2</td>\n",
       "      <td>6</td>\n",
       "      <td>3</td>\n",
       "    </tr>\n",
       "    <tr>\n",
       "      <th>2</th>\n",
       "      <td>0</td>\n",
       "      <td>0</td>\n",
       "      <td>0</td>\n",
       "      <td>0</td>\n",
       "      <td>1</td>\n",
       "      <td>0</td>\n",
       "      <td>0</td>\n",
       "      <td>0</td>\n",
       "      <td>0</td>\n",
       "      <td>0</td>\n",
       "      <td>1</td>\n",
       "      <td>0</td>\n",
       "      <td>0</td>\n",
       "      <td>0</td>\n",
       "      <td>0</td>\n",
       "      <td>1</td>\n",
       "      <td>0</td>\n",
       "      <td>0</td>\n",
       "      <td>1</td>\n",
       "      <td>1</td>\n",
       "      <td>0</td>\n",
       "      <td>0</td>\n",
       "      <td>0</td>\n",
       "      <td>0</td>\n",
       "      <td>0</td>\n",
       "      <td>1</td>\n",
       "      <td>1</td>\n",
       "      <td>0</td>\n",
       "      <td>0</td>\n",
       "      <td>0</td>\n",
       "      <td>2</td>\n",
       "      <td>2</td>\n",
       "      <td>2</td>\n",
       "      <td>2</td>\n",
       "      <td>2</td>\n",
       "      <td>2</td>\n",
       "      <td>2</td>\n",
       "      <td>1</td>\n",
       "      <td>2</td>\n",
       "      <td>2</td>\n",
       "      <td>...</td>\n",
       "      <td>-1</td>\n",
       "      <td>-1</td>\n",
       "      <td>-1</td>\n",
       "      <td>-1</td>\n",
       "      <td>-1</td>\n",
       "      <td>-1</td>\n",
       "      <td>-1</td>\n",
       "      <td>-1</td>\n",
       "      <td>-1</td>\n",
       "      <td>-1</td>\n",
       "      <td>-1</td>\n",
       "      <td>-1</td>\n",
       "      <td>-1</td>\n",
       "      <td>-1</td>\n",
       "      <td>-1</td>\n",
       "      <td>-1</td>\n",
       "      <td>-1</td>\n",
       "      <td>-1</td>\n",
       "      <td>-1</td>\n",
       "      <td>2</td>\n",
       "      <td>1</td>\n",
       "      <td>10</td>\n",
       "      <td>5</td>\n",
       "      <td>1</td>\n",
       "      <td>1</td>\n",
       "      <td>4</td>\n",
       "      <td>2</td>\n",
       "      <td>10</td>\n",
       "      <td>1</td>\n",
       "      <td>-1</td>\n",
       "      <td>-1</td>\n",
       "      <td>0.79379</td>\n",
       "      <td>1736</td>\n",
       "      <td>648</td>\n",
       "      <td>0.79379</td>\n",
       "      <td>71</td>\n",
       "      <td>0.79379</td>\n",
       "      <td>2</td>\n",
       "      <td>7</td>\n",
       "      <td>4</td>\n",
       "    </tr>\n",
       "    <tr>\n",
       "      <th>3</th>\n",
       "      <td>0</td>\n",
       "      <td>0</td>\n",
       "      <td>0</td>\n",
       "      <td>0</td>\n",
       "      <td>1</td>\n",
       "      <td>0</td>\n",
       "      <td>1</td>\n",
       "      <td>0</td>\n",
       "      <td>0</td>\n",
       "      <td>0</td>\n",
       "      <td>1</td>\n",
       "      <td>1</td>\n",
       "      <td>0</td>\n",
       "      <td>0</td>\n",
       "      <td>0</td>\n",
       "      <td>1</td>\n",
       "      <td>1</td>\n",
       "      <td>1</td>\n",
       "      <td>1</td>\n",
       "      <td>1</td>\n",
       "      <td>0</td>\n",
       "      <td>1</td>\n",
       "      <td>0</td>\n",
       "      <td>0</td>\n",
       "      <td>1</td>\n",
       "      <td>1</td>\n",
       "      <td>1</td>\n",
       "      <td>1</td>\n",
       "      <td>0</td>\n",
       "      <td>0</td>\n",
       "      <td>1</td>\n",
       "      <td>2</td>\n",
       "      <td>2</td>\n",
       "      <td>2</td>\n",
       "      <td>3</td>\n",
       "      <td>4</td>\n",
       "      <td>3</td>\n",
       "      <td>4</td>\n",
       "      <td>2</td>\n",
       "      <td>3</td>\n",
       "      <td>...</td>\n",
       "      <td>-1</td>\n",
       "      <td>-1</td>\n",
       "      <td>-1</td>\n",
       "      <td>-1</td>\n",
       "      <td>-1</td>\n",
       "      <td>-1</td>\n",
       "      <td>-1</td>\n",
       "      <td>-1</td>\n",
       "      <td>-1</td>\n",
       "      <td>-1</td>\n",
       "      <td>-1</td>\n",
       "      <td>-1</td>\n",
       "      <td>-1</td>\n",
       "      <td>-1</td>\n",
       "      <td>-1</td>\n",
       "      <td>-1</td>\n",
       "      <td>-1</td>\n",
       "      <td>-1</td>\n",
       "      <td>-1</td>\n",
       "      <td>1</td>\n",
       "      <td>1</td>\n",
       "      <td>12</td>\n",
       "      <td>5</td>\n",
       "      <td>1</td>\n",
       "      <td>1</td>\n",
       "      <td>3</td>\n",
       "      <td>1</td>\n",
       "      <td>10</td>\n",
       "      <td>4</td>\n",
       "      <td>-1</td>\n",
       "      <td>-1</td>\n",
       "      <td>1.40580</td>\n",
       "      <td>1737</td>\n",
       "      <td>648</td>\n",
       "      <td>1.40580</td>\n",
       "      <td>37</td>\n",
       "      <td>1.40580</td>\n",
       "      <td>1</td>\n",
       "      <td>4</td>\n",
       "      <td>4</td>\n",
       "    </tr>\n",
       "    <tr>\n",
       "      <th>4</th>\n",
       "      <td>0</td>\n",
       "      <td>0</td>\n",
       "      <td>0</td>\n",
       "      <td>1</td>\n",
       "      <td>1</td>\n",
       "      <td>0</td>\n",
       "      <td>1</td>\n",
       "      <td>0</td>\n",
       "      <td>0</td>\n",
       "      <td>0</td>\n",
       "      <td>1</td>\n",
       "      <td>1</td>\n",
       "      <td>0</td>\n",
       "      <td>0</td>\n",
       "      <td>0</td>\n",
       "      <td>0</td>\n",
       "      <td>0</td>\n",
       "      <td>0</td>\n",
       "      <td>1</td>\n",
       "      <td>1</td>\n",
       "      <td>1</td>\n",
       "      <td>1</td>\n",
       "      <td>0</td>\n",
       "      <td>0</td>\n",
       "      <td>0</td>\n",
       "      <td>1</td>\n",
       "      <td>0</td>\n",
       "      <td>1</td>\n",
       "      <td>0</td>\n",
       "      <td>0</td>\n",
       "      <td>2</td>\n",
       "      <td>1</td>\n",
       "      <td>1</td>\n",
       "      <td>2</td>\n",
       "      <td>4</td>\n",
       "      <td>1</td>\n",
       "      <td>4</td>\n",
       "      <td>1</td>\n",
       "      <td>3</td>\n",
       "      <td>4</td>\n",
       "      <td>...</td>\n",
       "      <td>-1</td>\n",
       "      <td>-1</td>\n",
       "      <td>-1</td>\n",
       "      <td>-1</td>\n",
       "      <td>-1</td>\n",
       "      <td>-1</td>\n",
       "      <td>-1</td>\n",
       "      <td>-1</td>\n",
       "      <td>-1</td>\n",
       "      <td>-1</td>\n",
       "      <td>-1</td>\n",
       "      <td>-1</td>\n",
       "      <td>-1</td>\n",
       "      <td>-1</td>\n",
       "      <td>-1</td>\n",
       "      <td>-1</td>\n",
       "      <td>-1</td>\n",
       "      <td>-1</td>\n",
       "      <td>-1</td>\n",
       "      <td>1</td>\n",
       "      <td>1</td>\n",
       "      <td>13</td>\n",
       "      <td>5</td>\n",
       "      <td>1</td>\n",
       "      <td>1</td>\n",
       "      <td>3</td>\n",
       "      <td>1</td>\n",
       "      <td>10</td>\n",
       "      <td>2</td>\n",
       "      <td>-1</td>\n",
       "      <td>-1</td>\n",
       "      <td>0.89475</td>\n",
       "      <td>1738</td>\n",
       "      <td>648</td>\n",
       "      <td>0.89475</td>\n",
       "      <td>42</td>\n",
       "      <td>0.89475</td>\n",
       "      <td>2</td>\n",
       "      <td>4</td>\n",
       "      <td>4</td>\n",
       "    </tr>\n",
       "  </tbody>\n",
       "</table>\n",
       "<p>5 rows × 370 columns</p>\n",
       "</div>"
      ],
      "text/plain": [
       "   cu041  cu042  cu043  cu044  ...  weight0  sgrade_grp  age_grp  region2\n",
       "0      0      0      0      0  ...  3.41659           1        4        3\n",
       "1      0      0      0      0  ...  2.68198           2        6        3\n",
       "2      0      0      0      0  ...  0.79379           2        7        4\n",
       "3      0      0      0      0  ...  1.40580           1        4        4\n",
       "4      0      0      0      1  ...  0.89475           2        4        4\n",
       "\n",
       "[5 rows x 370 columns]"
      ]
     },
     "execution_count": 4,
     "metadata": {},
     "output_type": "execute_result"
    }
   ],
   "source": [
    "data_raw.head()"
   ]
  },
  {
   "cell_type": "markdown",
   "metadata": {
    "id": "v5Ayjvy2K6pA"
   },
   "source": [
    "Another useful pandas tool is `describe`, that is used to generate descriptive statistics of the data in a Pandas DataFrame\n"
   ]
  },
  {
   "cell_type": "code",
   "execution_count": null,
   "metadata": {
    "colab": {
     "base_uri": "https://localhost:8080/",
     "height": 350
    },
    "executionInfo": {
     "elapsed": 1140,
     "status": "ok",
     "timestamp": 1632861155681,
     "user": {
      "displayName": "davide ghio",
      "photoUrl": "https://lh3.googleusercontent.com/a/default-user=s64",
      "userId": "16033550004002351519"
     },
     "user_tz": -120
    },
    "id": "ZtJqGq_0LBhX",
    "outputId": "e830938d-978b-483b-80ec-834ab30e3243"
   },
   "outputs": [
    {
     "data": {
      "text/html": [
       "<div>\n",
       "<style scoped>\n",
       "    .dataframe tbody tr th:only-of-type {\n",
       "        vertical-align: middle;\n",
       "    }\n",
       "\n",
       "    .dataframe tbody tr th {\n",
       "        vertical-align: top;\n",
       "    }\n",
       "\n",
       "    .dataframe thead th {\n",
       "        text-align: right;\n",
       "    }\n",
       "</style>\n",
       "<table border=\"1\" class=\"dataframe\">\n",
       "  <thead>\n",
       "    <tr style=\"text-align: right;\">\n",
       "      <th></th>\n",
       "      <th>cu041</th>\n",
       "      <th>cu042</th>\n",
       "      <th>cu043</th>\n",
       "      <th>cu044</th>\n",
       "      <th>cu045</th>\n",
       "      <th>cu046</th>\n",
       "      <th>cu047</th>\n",
       "      <th>cu048</th>\n",
       "      <th>cu049</th>\n",
       "      <th>cu0410</th>\n",
       "      <th>cu0411</th>\n",
       "      <th>cu0412</th>\n",
       "      <th>cu0413</th>\n",
       "      <th>cu0414</th>\n",
       "      <th>cu0415</th>\n",
       "      <th>cu051</th>\n",
       "      <th>cu052</th>\n",
       "      <th>cu053</th>\n",
       "      <th>cu054</th>\n",
       "      <th>cu055</th>\n",
       "      <th>cu056</th>\n",
       "      <th>cu057</th>\n",
       "      <th>cu058</th>\n",
       "      <th>cu059</th>\n",
       "      <th>cu0510</th>\n",
       "      <th>cu0511</th>\n",
       "      <th>cu0512</th>\n",
       "      <th>cu0513</th>\n",
       "      <th>cu0514</th>\n",
       "      <th>cu0515</th>\n",
       "      <th>cu06</th>\n",
       "      <th>cu07_1</th>\n",
       "      <th>cu07_2</th>\n",
       "      <th>cu07_3</th>\n",
       "      <th>cu08</th>\n",
       "      <th>cu08a</th>\n",
       "      <th>cu09</th>\n",
       "      <th>cu09a</th>\n",
       "      <th>cu10_1</th>\n",
       "      <th>cu10_2</th>\n",
       "      <th>...</th>\n",
       "      <th>sunday2</th>\n",
       "      <th>sunday3</th>\n",
       "      <th>sunday4</th>\n",
       "      <th>sunday5</th>\n",
       "      <th>sunday6</th>\n",
       "      <th>sunday7</th>\n",
       "      <th>sunday8</th>\n",
       "      <th>sunday9</th>\n",
       "      <th>sunday10</th>\n",
       "      <th>sunday11</th>\n",
       "      <th>sunday12</th>\n",
       "      <th>sunday13</th>\n",
       "      <th>sunday14</th>\n",
       "      <th>sunday15</th>\n",
       "      <th>sunday16</th>\n",
       "      <th>sunday17</th>\n",
       "      <th>sunday18</th>\n",
       "      <th>sunday19</th>\n",
       "      <th>sunday20</th>\n",
       "      <th>tenure</th>\n",
       "      <th>tennet</th>\n",
       "      <th>income</th>\n",
       "      <th>income3</th>\n",
       "      <th>dethnin</th>\n",
       "      <th>ethnic</th>\n",
       "      <th>lstage</th>\n",
       "      <th>netfq</th>\n",
       "      <th>gor</th>\n",
       "      <th>qual</th>\n",
       "      <th>dbroad</th>\n",
       "      <th>intten</th>\n",
       "      <th>cx_971_980</th>\n",
       "      <th>serial</th>\n",
       "      <th>week</th>\n",
       "      <th>wts</th>\n",
       "      <th>numage</th>\n",
       "      <th>weight0</th>\n",
       "      <th>sgrade_grp</th>\n",
       "      <th>age_grp</th>\n",
       "      <th>region2</th>\n",
       "    </tr>\n",
       "  </thead>\n",
       "  <tbody>\n",
       "    <tr>\n",
       "      <th>count</th>\n",
       "      <td>1771.000000</td>\n",
       "      <td>1771.000000</td>\n",
       "      <td>1771.000000</td>\n",
       "      <td>1771.000000</td>\n",
       "      <td>1771.000000</td>\n",
       "      <td>1771.000000</td>\n",
       "      <td>1771.000000</td>\n",
       "      <td>1771.000000</td>\n",
       "      <td>1771.000000</td>\n",
       "      <td>1771.000000</td>\n",
       "      <td>1771.000000</td>\n",
       "      <td>1771.000000</td>\n",
       "      <td>1771.000000</td>\n",
       "      <td>1771.000000</td>\n",
       "      <td>1771.000000</td>\n",
       "      <td>1771.000000</td>\n",
       "      <td>1771.000000</td>\n",
       "      <td>1771.000000</td>\n",
       "      <td>1771.000000</td>\n",
       "      <td>1771.000000</td>\n",
       "      <td>1771.000000</td>\n",
       "      <td>1771.000000</td>\n",
       "      <td>1771.000000</td>\n",
       "      <td>1771.000000</td>\n",
       "      <td>1771.000000</td>\n",
       "      <td>1771.000000</td>\n",
       "      <td>1771.000000</td>\n",
       "      <td>1771.000000</td>\n",
       "      <td>1771.000000</td>\n",
       "      <td>1771.000000</td>\n",
       "      <td>1771.000000</td>\n",
       "      <td>1771.000000</td>\n",
       "      <td>1771.000000</td>\n",
       "      <td>1771.000000</td>\n",
       "      <td>1771.000000</td>\n",
       "      <td>1771.000000</td>\n",
       "      <td>1771.000000</td>\n",
       "      <td>1771.000000</td>\n",
       "      <td>1771.000000</td>\n",
       "      <td>1771.000000</td>\n",
       "      <td>...</td>\n",
       "      <td>1771.000000</td>\n",
       "      <td>1771.000000</td>\n",
       "      <td>1771.000000</td>\n",
       "      <td>1771.000000</td>\n",
       "      <td>1771.000000</td>\n",
       "      <td>1771.000000</td>\n",
       "      <td>1771.000000</td>\n",
       "      <td>1771.000000</td>\n",
       "      <td>1771.000000</td>\n",
       "      <td>1771.000000</td>\n",
       "      <td>1771.000000</td>\n",
       "      <td>1771.000000</td>\n",
       "      <td>1771.000000</td>\n",
       "      <td>1771.000000</td>\n",
       "      <td>1771.000000</td>\n",
       "      <td>1771.000000</td>\n",
       "      <td>1771.000000</td>\n",
       "      <td>1771.000000</td>\n",
       "      <td>1771.000000</td>\n",
       "      <td>1771.000000</td>\n",
       "      <td>1771.000000</td>\n",
       "      <td>1771.000000</td>\n",
       "      <td>1771.000000</td>\n",
       "      <td>1771.000000</td>\n",
       "      <td>1771.000000</td>\n",
       "      <td>1771.000000</td>\n",
       "      <td>1771.000000</td>\n",
       "      <td>1771.000000</td>\n",
       "      <td>1771.000000</td>\n",
       "      <td>1771.000000</td>\n",
       "      <td>1771.000000</td>\n",
       "      <td>1771.000000</td>\n",
       "      <td>1771.000000</td>\n",
       "      <td>1771.000000</td>\n",
       "      <td>1771.000000</td>\n",
       "      <td>1771.000000</td>\n",
       "      <td>1771.000000</td>\n",
       "      <td>1771.000000</td>\n",
       "      <td>1771.000000</td>\n",
       "      <td>1771.000000</td>\n",
       "    </tr>\n",
       "    <tr>\n",
       "      <th>mean</th>\n",
       "      <td>0.119706</td>\n",
       "      <td>0.038396</td>\n",
       "      <td>0.063241</td>\n",
       "      <td>0.122530</td>\n",
       "      <td>0.231508</td>\n",
       "      <td>0.189723</td>\n",
       "      <td>0.104461</td>\n",
       "      <td>0.040090</td>\n",
       "      <td>0.058159</td>\n",
       "      <td>0.041784</td>\n",
       "      <td>0.564653</td>\n",
       "      <td>0.105590</td>\n",
       "      <td>0.059853</td>\n",
       "      <td>0.003388</td>\n",
       "      <td>0.313947</td>\n",
       "      <td>0.407679</td>\n",
       "      <td>0.164879</td>\n",
       "      <td>0.190288</td>\n",
       "      <td>0.335968</td>\n",
       "      <td>0.351214</td>\n",
       "      <td>0.223038</td>\n",
       "      <td>0.248447</td>\n",
       "      <td>0.166573</td>\n",
       "      <td>0.114060</td>\n",
       "      <td>0.172219</td>\n",
       "      <td>0.609825</td>\n",
       "      <td>0.191417</td>\n",
       "      <td>0.214568</td>\n",
       "      <td>0.011858</td>\n",
       "      <td>0.173913</td>\n",
       "      <td>2.455675</td>\n",
       "      <td>2.514963</td>\n",
       "      <td>2.555054</td>\n",
       "      <td>2.603049</td>\n",
       "      <td>2.977979</td>\n",
       "      <td>3.184641</td>\n",
       "      <td>3.101073</td>\n",
       "      <td>2.404291</td>\n",
       "      <td>2.800678</td>\n",
       "      <td>3.234896</td>\n",
       "      <td>...</td>\n",
       "      <td>-0.739695</td>\n",
       "      <td>-0.742518</td>\n",
       "      <td>-0.745906</td>\n",
       "      <td>-0.741389</td>\n",
       "      <td>-0.746471</td>\n",
       "      <td>-0.744777</td>\n",
       "      <td>-0.743648</td>\n",
       "      <td>-0.747036</td>\n",
       "      <td>-0.746471</td>\n",
       "      <td>-0.742518</td>\n",
       "      <td>-0.747036</td>\n",
       "      <td>-0.745342</td>\n",
       "      <td>-0.745906</td>\n",
       "      <td>-0.740824</td>\n",
       "      <td>-0.734613</td>\n",
       "      <td>-0.730096</td>\n",
       "      <td>-0.732919</td>\n",
       "      <td>-0.531338</td>\n",
       "      <td>-0.747036</td>\n",
       "      <td>2.594579</td>\n",
       "      <td>1.370977</td>\n",
       "      <td>11.521739</td>\n",
       "      <td>2.317335</td>\n",
       "      <td>1.205534</td>\n",
       "      <td>3.638622</td>\n",
       "      <td>3.140034</td>\n",
       "      <td>2.291361</td>\n",
       "      <td>5.529644</td>\n",
       "      <td>3.857708</td>\n",
       "      <td>-0.767363</td>\n",
       "      <td>1.102767</td>\n",
       "      <td>1.000000</td>\n",
       "      <td>2591.394692</td>\n",
       "      <td>648.252964</td>\n",
       "      <td>1.000000</td>\n",
       "      <td>46.421231</td>\n",
       "      <td>1.000000</td>\n",
       "      <td>2.429701</td>\n",
       "      <td>4.670243</td>\n",
       "      <td>4.006211</td>\n",
       "    </tr>\n",
       "    <tr>\n",
       "      <th>std</th>\n",
       "      <td>0.324710</td>\n",
       "      <td>0.192206</td>\n",
       "      <td>0.243465</td>\n",
       "      <td>0.327989</td>\n",
       "      <td>0.421915</td>\n",
       "      <td>0.392193</td>\n",
       "      <td>0.305944</td>\n",
       "      <td>0.196227</td>\n",
       "      <td>0.234110</td>\n",
       "      <td>0.200152</td>\n",
       "      <td>0.495942</td>\n",
       "      <td>0.307399</td>\n",
       "      <td>0.237282</td>\n",
       "      <td>0.058124</td>\n",
       "      <td>0.464226</td>\n",
       "      <td>0.491542</td>\n",
       "      <td>0.371176</td>\n",
       "      <td>0.392639</td>\n",
       "      <td>0.472461</td>\n",
       "      <td>0.477485</td>\n",
       "      <td>0.416401</td>\n",
       "      <td>0.432235</td>\n",
       "      <td>0.372699</td>\n",
       "      <td>0.317974</td>\n",
       "      <td>0.377677</td>\n",
       "      <td>0.487927</td>\n",
       "      <td>0.393528</td>\n",
       "      <td>0.410638</td>\n",
       "      <td>0.108276</td>\n",
       "      <td>0.379142</td>\n",
       "      <td>0.995263</td>\n",
       "      <td>0.834413</td>\n",
       "      <td>0.825231</td>\n",
       "      <td>0.819240</td>\n",
       "      <td>0.889404</td>\n",
       "      <td>1.092507</td>\n",
       "      <td>1.143122</td>\n",
       "      <td>1.230619</td>\n",
       "      <td>1.183846</td>\n",
       "      <td>1.157702</td>\n",
       "      <td>...</td>\n",
       "      <td>0.455351</td>\n",
       "      <td>0.447585</td>\n",
       "      <td>0.438061</td>\n",
       "      <td>0.450710</td>\n",
       "      <td>0.436450</td>\n",
       "      <td>0.441261</td>\n",
       "      <td>0.444436</td>\n",
       "      <td>0.434834</td>\n",
       "      <td>0.436450</td>\n",
       "      <td>0.447585</td>\n",
       "      <td>0.434834</td>\n",
       "      <td>0.439664</td>\n",
       "      <td>0.438061</td>\n",
       "      <td>0.452263</td>\n",
       "      <td>0.468962</td>\n",
       "      <td>0.480693</td>\n",
       "      <td>0.473400</td>\n",
       "      <td>0.825104</td>\n",
       "      <td>0.434834</td>\n",
       "      <td>1.410395</td>\n",
       "      <td>0.584773</td>\n",
       "      <td>4.593407</td>\n",
       "      <td>2.538701</td>\n",
       "      <td>0.444162</td>\n",
       "      <td>4.601321</td>\n",
       "      <td>1.046185</td>\n",
       "      <td>2.762712</td>\n",
       "      <td>3.018698</td>\n",
       "      <td>2.047755</td>\n",
       "      <td>0.942455</td>\n",
       "      <td>3.969324</td>\n",
       "      <td>0.772496</td>\n",
       "      <td>576.149480</td>\n",
       "      <td>0.434834</td>\n",
       "      <td>0.772496</td>\n",
       "      <td>18.625718</td>\n",
       "      <td>0.772496</td>\n",
       "      <td>1.101616</td>\n",
       "      <td>1.848105</td>\n",
       "      <td>1.626568</td>\n",
       "    </tr>\n",
       "    <tr>\n",
       "      <th>min</th>\n",
       "      <td>0.000000</td>\n",
       "      <td>0.000000</td>\n",
       "      <td>0.000000</td>\n",
       "      <td>0.000000</td>\n",
       "      <td>0.000000</td>\n",
       "      <td>0.000000</td>\n",
       "      <td>0.000000</td>\n",
       "      <td>0.000000</td>\n",
       "      <td>0.000000</td>\n",
       "      <td>0.000000</td>\n",
       "      <td>0.000000</td>\n",
       "      <td>0.000000</td>\n",
       "      <td>0.000000</td>\n",
       "      <td>0.000000</td>\n",
       "      <td>0.000000</td>\n",
       "      <td>0.000000</td>\n",
       "      <td>0.000000</td>\n",
       "      <td>0.000000</td>\n",
       "      <td>0.000000</td>\n",
       "      <td>0.000000</td>\n",
       "      <td>0.000000</td>\n",
       "      <td>0.000000</td>\n",
       "      <td>0.000000</td>\n",
       "      <td>0.000000</td>\n",
       "      <td>0.000000</td>\n",
       "      <td>0.000000</td>\n",
       "      <td>0.000000</td>\n",
       "      <td>0.000000</td>\n",
       "      <td>0.000000</td>\n",
       "      <td>0.000000</td>\n",
       "      <td>1.000000</td>\n",
       "      <td>1.000000</td>\n",
       "      <td>1.000000</td>\n",
       "      <td>1.000000</td>\n",
       "      <td>1.000000</td>\n",
       "      <td>1.000000</td>\n",
       "      <td>1.000000</td>\n",
       "      <td>1.000000</td>\n",
       "      <td>1.000000</td>\n",
       "      <td>1.000000</td>\n",
       "      <td>...</td>\n",
       "      <td>-1.000000</td>\n",
       "      <td>-1.000000</td>\n",
       "      <td>-1.000000</td>\n",
       "      <td>-1.000000</td>\n",
       "      <td>-1.000000</td>\n",
       "      <td>-1.000000</td>\n",
       "      <td>-1.000000</td>\n",
       "      <td>-1.000000</td>\n",
       "      <td>-1.000000</td>\n",
       "      <td>-1.000000</td>\n",
       "      <td>-1.000000</td>\n",
       "      <td>-1.000000</td>\n",
       "      <td>-1.000000</td>\n",
       "      <td>-1.000000</td>\n",
       "      <td>-1.000000</td>\n",
       "      <td>-1.000000</td>\n",
       "      <td>-1.000000</td>\n",
       "      <td>-1.000000</td>\n",
       "      <td>-1.000000</td>\n",
       "      <td>1.000000</td>\n",
       "      <td>-1.000000</td>\n",
       "      <td>1.000000</td>\n",
       "      <td>-1.000000</td>\n",
       "      <td>-1.000000</td>\n",
       "      <td>1.000000</td>\n",
       "      <td>-1.000000</td>\n",
       "      <td>1.000000</td>\n",
       "      <td>1.000000</td>\n",
       "      <td>1.000000</td>\n",
       "      <td>-1.000000</td>\n",
       "      <td>-1.000000</td>\n",
       "      <td>0.068530</td>\n",
       "      <td>1012.000000</td>\n",
       "      <td>648.000000</td>\n",
       "      <td>0.068530</td>\n",
       "      <td>0.000000</td>\n",
       "      <td>0.068530</td>\n",
       "      <td>1.000000</td>\n",
       "      <td>1.000000</td>\n",
       "      <td>1.000000</td>\n",
       "    </tr>\n",
       "    <tr>\n",
       "      <th>25%</th>\n",
       "      <td>0.000000</td>\n",
       "      <td>0.000000</td>\n",
       "      <td>0.000000</td>\n",
       "      <td>0.000000</td>\n",
       "      <td>0.000000</td>\n",
       "      <td>0.000000</td>\n",
       "      <td>0.000000</td>\n",
       "      <td>0.000000</td>\n",
       "      <td>0.000000</td>\n",
       "      <td>0.000000</td>\n",
       "      <td>0.000000</td>\n",
       "      <td>0.000000</td>\n",
       "      <td>0.000000</td>\n",
       "      <td>0.000000</td>\n",
       "      <td>0.000000</td>\n",
       "      <td>0.000000</td>\n",
       "      <td>0.000000</td>\n",
       "      <td>0.000000</td>\n",
       "      <td>0.000000</td>\n",
       "      <td>0.000000</td>\n",
       "      <td>0.000000</td>\n",
       "      <td>0.000000</td>\n",
       "      <td>0.000000</td>\n",
       "      <td>0.000000</td>\n",
       "      <td>0.000000</td>\n",
       "      <td>0.000000</td>\n",
       "      <td>0.000000</td>\n",
       "      <td>0.000000</td>\n",
       "      <td>0.000000</td>\n",
       "      <td>0.000000</td>\n",
       "      <td>2.000000</td>\n",
       "      <td>2.000000</td>\n",
       "      <td>2.000000</td>\n",
       "      <td>2.000000</td>\n",
       "      <td>2.000000</td>\n",
       "      <td>2.000000</td>\n",
       "      <td>2.000000</td>\n",
       "      <td>2.000000</td>\n",
       "      <td>2.000000</td>\n",
       "      <td>2.000000</td>\n",
       "      <td>...</td>\n",
       "      <td>-1.000000</td>\n",
       "      <td>-1.000000</td>\n",
       "      <td>-1.000000</td>\n",
       "      <td>-1.000000</td>\n",
       "      <td>-1.000000</td>\n",
       "      <td>-1.000000</td>\n",
       "      <td>-1.000000</td>\n",
       "      <td>-1.000000</td>\n",
       "      <td>-1.000000</td>\n",
       "      <td>-1.000000</td>\n",
       "      <td>-1.000000</td>\n",
       "      <td>-1.000000</td>\n",
       "      <td>-1.000000</td>\n",
       "      <td>-1.000000</td>\n",
       "      <td>-1.000000</td>\n",
       "      <td>-1.000000</td>\n",
       "      <td>-1.000000</td>\n",
       "      <td>-1.000000</td>\n",
       "      <td>-1.000000</td>\n",
       "      <td>1.000000</td>\n",
       "      <td>1.000000</td>\n",
       "      <td>9.000000</td>\n",
       "      <td>-1.000000</td>\n",
       "      <td>1.000000</td>\n",
       "      <td>1.000000</td>\n",
       "      <td>3.000000</td>\n",
       "      <td>1.000000</td>\n",
       "      <td>3.000000</td>\n",
       "      <td>2.000000</td>\n",
       "      <td>-1.000000</td>\n",
       "      <td>-1.000000</td>\n",
       "      <td>0.483895</td>\n",
       "      <td>2183.000000</td>\n",
       "      <td>648.000000</td>\n",
       "      <td>0.483895</td>\n",
       "      <td>31.000000</td>\n",
       "      <td>0.483895</td>\n",
       "      <td>2.000000</td>\n",
       "      <td>3.000000</td>\n",
       "      <td>3.000000</td>\n",
       "    </tr>\n",
       "    <tr>\n",
       "      <th>50%</th>\n",
       "      <td>0.000000</td>\n",
       "      <td>0.000000</td>\n",
       "      <td>0.000000</td>\n",
       "      <td>0.000000</td>\n",
       "      <td>0.000000</td>\n",
       "      <td>0.000000</td>\n",
       "      <td>0.000000</td>\n",
       "      <td>0.000000</td>\n",
       "      <td>0.000000</td>\n",
       "      <td>0.000000</td>\n",
       "      <td>1.000000</td>\n",
       "      <td>0.000000</td>\n",
       "      <td>0.000000</td>\n",
       "      <td>0.000000</td>\n",
       "      <td>0.000000</td>\n",
       "      <td>0.000000</td>\n",
       "      <td>0.000000</td>\n",
       "      <td>0.000000</td>\n",
       "      <td>0.000000</td>\n",
       "      <td>0.000000</td>\n",
       "      <td>0.000000</td>\n",
       "      <td>0.000000</td>\n",
       "      <td>0.000000</td>\n",
       "      <td>0.000000</td>\n",
       "      <td>0.000000</td>\n",
       "      <td>1.000000</td>\n",
       "      <td>0.000000</td>\n",
       "      <td>0.000000</td>\n",
       "      <td>0.000000</td>\n",
       "      <td>0.000000</td>\n",
       "      <td>2.000000</td>\n",
       "      <td>2.000000</td>\n",
       "      <td>3.000000</td>\n",
       "      <td>3.000000</td>\n",
       "      <td>3.000000</td>\n",
       "      <td>3.000000</td>\n",
       "      <td>3.000000</td>\n",
       "      <td>2.000000</td>\n",
       "      <td>3.000000</td>\n",
       "      <td>3.000000</td>\n",
       "      <td>...</td>\n",
       "      <td>-1.000000</td>\n",
       "      <td>-1.000000</td>\n",
       "      <td>-1.000000</td>\n",
       "      <td>-1.000000</td>\n",
       "      <td>-1.000000</td>\n",
       "      <td>-1.000000</td>\n",
       "      <td>-1.000000</td>\n",
       "      <td>-1.000000</td>\n",
       "      <td>-1.000000</td>\n",
       "      <td>-1.000000</td>\n",
       "      <td>-1.000000</td>\n",
       "      <td>-1.000000</td>\n",
       "      <td>-1.000000</td>\n",
       "      <td>-1.000000</td>\n",
       "      <td>-1.000000</td>\n",
       "      <td>-1.000000</td>\n",
       "      <td>-1.000000</td>\n",
       "      <td>-1.000000</td>\n",
       "      <td>-1.000000</td>\n",
       "      <td>2.000000</td>\n",
       "      <td>1.000000</td>\n",
       "      <td>12.000000</td>\n",
       "      <td>3.000000</td>\n",
       "      <td>1.000000</td>\n",
       "      <td>1.000000</td>\n",
       "      <td>3.000000</td>\n",
       "      <td>1.000000</td>\n",
       "      <td>6.000000</td>\n",
       "      <td>4.000000</td>\n",
       "      <td>-1.000000</td>\n",
       "      <td>-1.000000</td>\n",
       "      <td>0.801870</td>\n",
       "      <td>2624.000000</td>\n",
       "      <td>648.000000</td>\n",
       "      <td>0.801870</td>\n",
       "      <td>45.000000</td>\n",
       "      <td>0.801870</td>\n",
       "      <td>2.000000</td>\n",
       "      <td>5.000000</td>\n",
       "      <td>4.000000</td>\n",
       "    </tr>\n",
       "    <tr>\n",
       "      <th>75%</th>\n",
       "      <td>0.000000</td>\n",
       "      <td>0.000000</td>\n",
       "      <td>0.000000</td>\n",
       "      <td>0.000000</td>\n",
       "      <td>0.000000</td>\n",
       "      <td>0.000000</td>\n",
       "      <td>0.000000</td>\n",
       "      <td>0.000000</td>\n",
       "      <td>0.000000</td>\n",
       "      <td>0.000000</td>\n",
       "      <td>1.000000</td>\n",
       "      <td>0.000000</td>\n",
       "      <td>0.000000</td>\n",
       "      <td>0.000000</td>\n",
       "      <td>1.000000</td>\n",
       "      <td>1.000000</td>\n",
       "      <td>0.000000</td>\n",
       "      <td>0.000000</td>\n",
       "      <td>1.000000</td>\n",
       "      <td>1.000000</td>\n",
       "      <td>0.000000</td>\n",
       "      <td>0.000000</td>\n",
       "      <td>0.000000</td>\n",
       "      <td>0.000000</td>\n",
       "      <td>0.000000</td>\n",
       "      <td>1.000000</td>\n",
       "      <td>0.000000</td>\n",
       "      <td>0.000000</td>\n",
       "      <td>0.000000</td>\n",
       "      <td>0.000000</td>\n",
       "      <td>3.000000</td>\n",
       "      <td>3.000000</td>\n",
       "      <td>3.000000</td>\n",
       "      <td>3.000000</td>\n",
       "      <td>4.000000</td>\n",
       "      <td>4.000000</td>\n",
       "      <td>4.000000</td>\n",
       "      <td>3.000000</td>\n",
       "      <td>3.000000</td>\n",
       "      <td>4.000000</td>\n",
       "      <td>...</td>\n",
       "      <td>0.000000</td>\n",
       "      <td>0.000000</td>\n",
       "      <td>0.000000</td>\n",
       "      <td>0.000000</td>\n",
       "      <td>0.000000</td>\n",
       "      <td>0.000000</td>\n",
       "      <td>0.000000</td>\n",
       "      <td>0.000000</td>\n",
       "      <td>0.000000</td>\n",
       "      <td>0.000000</td>\n",
       "      <td>0.000000</td>\n",
       "      <td>0.000000</td>\n",
       "      <td>0.000000</td>\n",
       "      <td>0.000000</td>\n",
       "      <td>0.000000</td>\n",
       "      <td>0.000000</td>\n",
       "      <td>0.000000</td>\n",
       "      <td>0.000000</td>\n",
       "      <td>0.000000</td>\n",
       "      <td>4.000000</td>\n",
       "      <td>2.000000</td>\n",
       "      <td>16.000000</td>\n",
       "      <td>5.000000</td>\n",
       "      <td>1.000000</td>\n",
       "      <td>4.000000</td>\n",
       "      <td>4.000000</td>\n",
       "      <td>2.000000</td>\n",
       "      <td>8.000000</td>\n",
       "      <td>5.000000</td>\n",
       "      <td>-1.000000</td>\n",
       "      <td>-1.000000</td>\n",
       "      <td>1.279665</td>\n",
       "      <td>3067.500000</td>\n",
       "      <td>649.000000</td>\n",
       "      <td>1.279665</td>\n",
       "      <td>61.500000</td>\n",
       "      <td>1.279665</td>\n",
       "      <td>3.000000</td>\n",
       "      <td>6.000000</td>\n",
       "      <td>5.000000</td>\n",
       "    </tr>\n",
       "    <tr>\n",
       "      <th>max</th>\n",
       "      <td>1.000000</td>\n",
       "      <td>1.000000</td>\n",
       "      <td>1.000000</td>\n",
       "      <td>1.000000</td>\n",
       "      <td>1.000000</td>\n",
       "      <td>1.000000</td>\n",
       "      <td>1.000000</td>\n",
       "      <td>1.000000</td>\n",
       "      <td>1.000000</td>\n",
       "      <td>1.000000</td>\n",
       "      <td>1.000000</td>\n",
       "      <td>1.000000</td>\n",
       "      <td>1.000000</td>\n",
       "      <td>1.000000</td>\n",
       "      <td>1.000000</td>\n",
       "      <td>1.000000</td>\n",
       "      <td>1.000000</td>\n",
       "      <td>1.000000</td>\n",
       "      <td>1.000000</td>\n",
       "      <td>1.000000</td>\n",
       "      <td>1.000000</td>\n",
       "      <td>1.000000</td>\n",
       "      <td>1.000000</td>\n",
       "      <td>1.000000</td>\n",
       "      <td>1.000000</td>\n",
       "      <td>1.000000</td>\n",
       "      <td>1.000000</td>\n",
       "      <td>1.000000</td>\n",
       "      <td>1.000000</td>\n",
       "      <td>1.000000</td>\n",
       "      <td>4.000000</td>\n",
       "      <td>5.000000</td>\n",
       "      <td>5.000000</td>\n",
       "      <td>5.000000</td>\n",
       "      <td>5.000000</td>\n",
       "      <td>6.000000</td>\n",
       "      <td>6.000000</td>\n",
       "      <td>6.000000</td>\n",
       "      <td>6.000000</td>\n",
       "      <td>6.000000</td>\n",
       "      <td>...</td>\n",
       "      <td>1.000000</td>\n",
       "      <td>1.000000</td>\n",
       "      <td>1.000000</td>\n",
       "      <td>1.000000</td>\n",
       "      <td>1.000000</td>\n",
       "      <td>1.000000</td>\n",
       "      <td>1.000000</td>\n",
       "      <td>0.000000</td>\n",
       "      <td>1.000000</td>\n",
       "      <td>1.000000</td>\n",
       "      <td>0.000000</td>\n",
       "      <td>1.000000</td>\n",
       "      <td>1.000000</td>\n",
       "      <td>1.000000</td>\n",
       "      <td>1.000000</td>\n",
       "      <td>1.000000</td>\n",
       "      <td>1.000000</td>\n",
       "      <td>1.000000</td>\n",
       "      <td>0.000000</td>\n",
       "      <td>7.000000</td>\n",
       "      <td>2.000000</td>\n",
       "      <td>17.000000</td>\n",
       "      <td>5.000000</td>\n",
       "      <td>2.000000</td>\n",
       "      <td>20.000000</td>\n",
       "      <td>4.000000</td>\n",
       "      <td>10.000000</td>\n",
       "      <td>11.000000</td>\n",
       "      <td>9.000000</td>\n",
       "      <td>4.000000</td>\n",
       "      <td>10.000000</td>\n",
       "      <td>6.669790</td>\n",
       "      <td>3495.000000</td>\n",
       "      <td>649.000000</td>\n",
       "      <td>6.669790</td>\n",
       "      <td>92.000000</td>\n",
       "      <td>6.669790</td>\n",
       "      <td>4.000000</td>\n",
       "      <td>8.000000</td>\n",
       "      <td>6.000000</td>\n",
       "    </tr>\n",
       "  </tbody>\n",
       "</table>\n",
       "<p>8 rows × 370 columns</p>\n",
       "</div>"
      ],
      "text/plain": [
       "             cu041        cu042  ...      age_grp      region2\n",
       "count  1771.000000  1771.000000  ...  1771.000000  1771.000000\n",
       "mean      0.119706     0.038396  ...     4.670243     4.006211\n",
       "std       0.324710     0.192206  ...     1.848105     1.626568\n",
       "min       0.000000     0.000000  ...     1.000000     1.000000\n",
       "25%       0.000000     0.000000  ...     3.000000     3.000000\n",
       "50%       0.000000     0.000000  ...     5.000000     4.000000\n",
       "75%       0.000000     0.000000  ...     6.000000     5.000000\n",
       "max       1.000000     1.000000  ...     8.000000     6.000000\n",
       "\n",
       "[8 rows x 370 columns]"
      ]
     },
     "execution_count": 5,
     "metadata": {},
     "output_type": "execute_result"
    }
   ],
   "source": [
    "data_raw.describe()"
   ]
  },
  {
   "cell_type": "markdown",
   "metadata": {
    "id": "L4LMkig3kZtm"
   },
   "source": [
    "In these dats, the different columns correspond to different $\\textbf{features}$, many of these are useless for our goals since we are interested just in the age of the person and how she/he voted. The line corresponds to all the people that were interviewed.  The code for this two features are respectively \"cut15\" and \"numage\", let's focus on them and change the nomenclature for having a new nice-looking dataframe.\n",
    "\n",
    "\n"
   ]
  },
  {
   "cell_type": "code",
   "execution_count": null,
   "metadata": {
    "id": "o9I1QluQkZtn"
   },
   "outputs": [],
   "source": [
    "# Feature selection\n",
    "data = data_raw[['numage', 'cut15']]\n",
    "# Rename columns\n",
    "data.columns = ['age', 'vote']"
   ]
  },
  {
   "cell_type": "markdown",
   "metadata": {
    "id": "n26gKwuLkZtn"
   },
   "source": [
    "The possible answer to the question - How did you vote on the question ‘Should the United Kingdom remain a member of the European Union or leave the European Union’?” - are encoded through $\\textbf{labels}$, i.e. a number going from 1 to 6 encoding what was the answer:"
   ]
  },
  {
   "cell_type": "markdown",
   "metadata": {
    "id": "vSRmeu_iSc8G"
   },
   "source": [
    "Value = 1.0 $\\qquad$ Label = Remain a member of the European Union\n",
    "\n",
    "Value = 2.0 $\\qquad$   Label = Leave the European Union\n",
    "\n",
    "Value = 3.0 $\\qquad$   Label = Did not vote\n",
    "\n",
    "Value = 4.0 $\\qquad$   Label = Too young\n",
    "\n",
    "Value = 5.0 $\\qquad$   Label = Can't remember\n",
    "\n",
    "Value = 6.0 $\\qquad$   Label = Refused"
   ]
  },
  {
   "cell_type": "code",
   "execution_count": null,
   "metadata": {
    "colab": {
     "base_uri": "https://localhost:8080/",
     "height": 206
    },
    "executionInfo": {
     "elapsed": 8,
     "status": "ok",
     "timestamp": 1632861156479,
     "user": {
      "displayName": "davide ghio",
      "photoUrl": "https://lh3.googleusercontent.com/a/default-user=s64",
      "userId": "16033550004002351519"
     },
     "user_tz": -120
    },
    "id": "MsliY_b6kZto",
    "outputId": "ae189a4a-44ae-4b1f-8255-643bdcbfe09a",
    "scrolled": true
   },
   "outputs": [
    {
     "data": {
      "text/html": [
       "<div>\n",
       "<style scoped>\n",
       "    .dataframe tbody tr th:only-of-type {\n",
       "        vertical-align: middle;\n",
       "    }\n",
       "\n",
       "    .dataframe tbody tr th {\n",
       "        vertical-align: top;\n",
       "    }\n",
       "\n",
       "    .dataframe thead th {\n",
       "        text-align: right;\n",
       "    }\n",
       "</style>\n",
       "<table border=\"1\" class=\"dataframe\">\n",
       "  <thead>\n",
       "    <tr style=\"text-align: right;\">\n",
       "      <th></th>\n",
       "      <th>age</th>\n",
       "      <th>vote</th>\n",
       "    </tr>\n",
       "  </thead>\n",
       "  <tbody>\n",
       "    <tr>\n",
       "      <th>0</th>\n",
       "      <td>37</td>\n",
       "      <td>1</td>\n",
       "    </tr>\n",
       "    <tr>\n",
       "      <th>1</th>\n",
       "      <td>55</td>\n",
       "      <td>1</td>\n",
       "    </tr>\n",
       "    <tr>\n",
       "      <th>2</th>\n",
       "      <td>71</td>\n",
       "      <td>2</td>\n",
       "    </tr>\n",
       "    <tr>\n",
       "      <th>3</th>\n",
       "      <td>37</td>\n",
       "      <td>1</td>\n",
       "    </tr>\n",
       "    <tr>\n",
       "      <th>4</th>\n",
       "      <td>42</td>\n",
       "      <td>1</td>\n",
       "    </tr>\n",
       "  </tbody>\n",
       "</table>\n",
       "</div>"
      ],
      "text/plain": [
       "   age  vote\n",
       "0   37     1\n",
       "1   55     1\n",
       "2   71     2\n",
       "3   37     1\n",
       "4   42     1"
      ]
     },
     "execution_count": 7,
     "metadata": {},
     "output_type": "execute_result"
    }
   ],
   "source": [
    "# Let's see how it looks like now\n",
    "data.head()"
   ]
  },
  {
   "cell_type": "markdown",
   "metadata": {
    "id": "15ZcekWWW9cH"
   },
   "source": [
    "We can use `data.sort_values` to sort the dataset by age"
   ]
  },
  {
   "cell_type": "code",
   "execution_count": null,
   "metadata": {
    "colab": {
     "base_uri": "https://localhost:8080/",
     "height": 423
    },
    "executionInfo": {
     "elapsed": 4,
     "status": "ok",
     "timestamp": 1632861156792,
     "user": {
      "displayName": "davide ghio",
      "photoUrl": "https://lh3.googleusercontent.com/a/default-user=s64",
      "userId": "16033550004002351519"
     },
     "user_tz": -120
    },
    "id": "DapK84t6TsEc",
    "outputId": "447ae259-f7ba-46c9-f381-bd3c22ca476f"
   },
   "outputs": [
    {
     "data": {
      "text/html": [
       "<div>\n",
       "<style scoped>\n",
       "    .dataframe tbody tr th:only-of-type {\n",
       "        vertical-align: middle;\n",
       "    }\n",
       "\n",
       "    .dataframe tbody tr th {\n",
       "        vertical-align: top;\n",
       "    }\n",
       "\n",
       "    .dataframe thead th {\n",
       "        text-align: right;\n",
       "    }\n",
       "</style>\n",
       "<table border=\"1\" class=\"dataframe\">\n",
       "  <thead>\n",
       "    <tr style=\"text-align: right;\">\n",
       "      <th></th>\n",
       "      <th>age</th>\n",
       "      <th>vote</th>\n",
       "    </tr>\n",
       "  </thead>\n",
       "  <tbody>\n",
       "    <tr>\n",
       "      <th>519</th>\n",
       "      <td>0</td>\n",
       "      <td>2</td>\n",
       "    </tr>\n",
       "    <tr>\n",
       "      <th>1627</th>\n",
       "      <td>0</td>\n",
       "      <td>1</td>\n",
       "    </tr>\n",
       "    <tr>\n",
       "      <th>172</th>\n",
       "      <td>0</td>\n",
       "      <td>6</td>\n",
       "    </tr>\n",
       "    <tr>\n",
       "      <th>412</th>\n",
       "      <td>0</td>\n",
       "      <td>2</td>\n",
       "    </tr>\n",
       "    <tr>\n",
       "      <th>1511</th>\n",
       "      <td>0</td>\n",
       "      <td>3</td>\n",
       "    </tr>\n",
       "    <tr>\n",
       "      <th>...</th>\n",
       "      <td>...</td>\n",
       "      <td>...</td>\n",
       "    </tr>\n",
       "    <tr>\n",
       "      <th>525</th>\n",
       "      <td>91</td>\n",
       "      <td>2</td>\n",
       "    </tr>\n",
       "    <tr>\n",
       "      <th>371</th>\n",
       "      <td>92</td>\n",
       "      <td>1</td>\n",
       "    </tr>\n",
       "    <tr>\n",
       "      <th>1518</th>\n",
       "      <td>92</td>\n",
       "      <td>2</td>\n",
       "    </tr>\n",
       "    <tr>\n",
       "      <th>1557</th>\n",
       "      <td>92</td>\n",
       "      <td>2</td>\n",
       "    </tr>\n",
       "    <tr>\n",
       "      <th>405</th>\n",
       "      <td>92</td>\n",
       "      <td>1</td>\n",
       "    </tr>\n",
       "  </tbody>\n",
       "</table>\n",
       "<p>1771 rows × 2 columns</p>\n",
       "</div>"
      ],
      "text/plain": [
       "      age  vote\n",
       "519     0     2\n",
       "1627    0     1\n",
       "172     0     6\n",
       "412     0     2\n",
       "1511    0     3\n",
       "...   ...   ...\n",
       "525    91     2\n",
       "371    92     1\n",
       "1518   92     2\n",
       "1557   92     2\n",
       "405    92     1\n",
       "\n",
       "[1771 rows x 2 columns]"
      ]
     },
     "execution_count": 8,
     "metadata": {},
     "output_type": "execute_result"
    }
   ],
   "source": [
    "data.sort_values(by='age')"
   ]
  },
  {
   "cell_type": "markdown",
   "metadata": {
    "id": "35dFiX99kZto"
   },
   "source": [
    "We must do again a feature selection since we want to analyze just the age of Brexiteers and Remainers and because we see that there are some artifacts in the age column (many zeros appearing). "
   ]
  },
  {
   "cell_type": "code",
   "execution_count": null,
   "metadata": {
    "colab": {
     "base_uri": "https://localhost:8080/"
    },
    "executionInfo": {
     "elapsed": 13,
     "status": "ok",
     "timestamp": 1632861157600,
     "user": {
      "displayName": "davide ghio",
      "photoUrl": "https://lh3.googleusercontent.com/a/default-user=s64",
      "userId": "16033550004002351519"
     },
     "user_tz": -120
    },
    "id": "2XFl6PjYkZto",
    "outputId": "d9bc954a-fb17-4b3d-c9f7-783e70752e72"
   },
   "outputs": [
    {
     "name": "stdout",
     "output_type": "stream",
     "text": [
      "The percentage of brexiteers is 0.4114068441064639\n"
     ]
    }
   ],
   "source": [
    "# Remove zeros in the age column \n",
    "data = data[data['age'] != 0]\n",
    "\n",
    "# Create the remainer and brexiters data frames by selecting the vote \n",
    "remainers = data[data['vote'] == 1]\n",
    "brexiteers = data[data['vote'] == 2]\n",
    "\n",
    "# We actually have in this poll less brexiteers than remainers, we compute using the function \"len\"\n",
    "print(f\"The percentage of brexiteers is {len(brexiteers)/(len(brexiteers) + len(remainers))}\")"
   ]
  },
  {
   "cell_type": "markdown",
   "metadata": {
    "id": "Vx39QFrXkZto"
   },
   "source": [
    "Let's have a look at the age distribution for the two. We import `matplotlib` for doing so, another well-known and important package that we shall use all the time.\n"
   ]
  },
  {
   "cell_type": "code",
   "execution_count": null,
   "metadata": {
    "id": "FLY2E8eQkZtp"
   },
   "outputs": [],
   "source": [
    "import matplotlib.pyplot as plt"
   ]
  },
  {
   "cell_type": "code",
   "execution_count": null,
   "metadata": {
    "colab": {
     "base_uri": "https://localhost:8080/",
     "height": 514
    },
    "executionInfo": {
     "elapsed": 712,
     "status": "ok",
     "timestamp": 1632861158591,
     "user": {
      "displayName": "davide ghio",
      "photoUrl": "https://lh3.googleusercontent.com/a/default-user=s64",
      "userId": "16033550004002351519"
     },
     "user_tz": -120
    },
    "id": "7Q_l54_ukZtp",
    "outputId": "93286504-60c0-4ab1-e0cf-1c58002b4c63"
   },
   "outputs": [
    {
     "data": {
      "text/plain": [
       "Text(0, 0.5, '# (people)')"
      ]
     },
     "execution_count": 11,
     "metadata": {},
     "output_type": "execute_result"
    },
    {
     "data": {
      "image/png": "[encoded data removed]",
      "text/plain": [
       "<Figure size 1440x504 with 2 Axes>"
      ]
     },
     "metadata": {
      "needs_background": "light"
     },
     "output_type": "display_data"
    }
   ],
   "source": [
    "%matplotlib inline\n",
    "fig, ax = plt.subplots(1,2, figsize=(20,7), sharex=True)\n",
    "plt.suptitle(\"Age distribution\", fontsize=16)\n",
    "ax[0].set_title(f\"Brexiteers\", fontsize=14)\n",
    "ax[0].hist(brexiteers['age'], color ='darkred')\n",
    "ax[0].set_xlabel(\"Age\", fontsize = 14)\n",
    "ax[0].set_ylabel(\"# (people)\", fontsize = 14)\n",
    "\n",
    "ax[1].set_title(f\"Remainers\", fontsize=14)\n",
    "ax[1].hist(remainers['age'], color ='darkblue')\n",
    "ax[1].set_xlabel(\"Age\", fontsize = 14)\n",
    "ax[1].set_ylabel(\"# (people)\", fontsize = 14)\n"
   ]
  },
  {
   "cell_type": "markdown",
   "metadata": {
    "id": "uV8-pYqVkZtp"
   },
   "source": [
    "Let's compute now the averages and compare them, using another well-known python package:"
   ]
  },
  {
   "cell_type": "code",
   "execution_count": null,
   "metadata": {
    "colab": {
     "base_uri": "https://localhost:8080/"
    },
    "executionInfo": {
     "elapsed": 5,
     "status": "ok",
     "timestamp": 1632861158802,
     "user": {
      "displayName": "davide ghio",
      "photoUrl": "https://lh3.googleusercontent.com/a/default-user=s64",
      "userId": "16033550004002351519"
     },
     "user_tz": -120
    },
    "id": "m9a8H9BFkZtp",
    "outputId": "3bb382d1-f007-445c-a9f3-0d5bc63909c9"
   },
   "outputs": [
    {
     "name": "stdout",
     "output_type": "stream",
     "text": [
      "The difference in average age is 3.6998380833655773\n"
     ]
    }
   ],
   "source": [
    "import numpy as np\n",
    "\n",
    "avg_brex = np.mean(brexiteers['age'])\n",
    "avg_rem = np.mean(remainers['age'])\n",
    "\n",
    "dataset_property = avg_brex - avg_rem\n",
    "print(f\"The difference in average age is {dataset_property}\")"
   ]
  },
  {
   "cell_type": "markdown",
   "metadata": {
    "id": "IDib6OPOkZtq"
   },
   "source": [
    "### $\\color{darkblue}{\\text{Hypothesis testing}}$ "
   ]
  },
  {
   "cell_type": "markdown",
   "metadata": {
    "id": "sezDyfcxkZtq"
   },
   "source": [
    "Let's answer the very first question we asked ourselves: how can we quantify our level of confidence in stating that this difference is $\\textbf{NOT}$ given by low sample-size effect? "
   ]
  },
  {
   "cell_type": "markdown",
   "metadata": {
    "id": "6Mft4epakZtq"
   },
   "source": [
    "The answer is incredibly fascinating in its simplicity and effectiveness. The idea is the following: \n",
    "* *Create new datasets by permuting randomly the labels* \n",
    "* *Compute the differences in this new randomly drawn datasets*\n",
    "* *See how many times the differences are higher than the experimental one*"
   ]
  },
  {
   "cell_type": "markdown",
   "metadata": {
    "id": "F0xqZkwekZtq"
   },
   "source": [
    "We must create equivalent datasets made of a randomized group of 541 people (Group A) and another made of 774 (Group B) corresponding to what previously were respectively brexiteers and remainers."
   ]
  },
  {
   "cell_type": "code",
   "execution_count": null,
   "metadata": {
    "colab": {
     "base_uri": "https://localhost:8080/"
    },
    "executionInfo": {
     "elapsed": 6,
     "status": "ok",
     "timestamp": 1632861159631,
     "user": {
      "displayName": "davide ghio",
      "photoUrl": "https://lh3.googleusercontent.com/a/default-user=s64",
      "userId": "16033550004002351519"
     },
     "user_tz": -120
    },
    "id": "ahlEJprOkZtq",
    "outputId": "d1e994dc-4e67-423e-a2ae-30876258ae30"
   },
   "outputs": [
    {
     "name": "stdout",
     "output_type": "stream",
     "text": [
      "1315\n"
     ]
    }
   ],
   "source": [
    "# Create a list with all ages\n",
    "\n",
    "global_stat = list(brexiteers['age']) +  list(remainers['age'])\n",
    "\n",
    "print(len(global_stat))"
   ]
  },
  {
   "cell_type": "markdown",
   "metadata": {
    "id": "kvZfqqNPkZtr"
   },
   "source": [
    "Import random package for computing random permutations"
   ]
  },
  {
   "cell_type": "code",
   "execution_count": null,
   "metadata": {
    "id": "_jtXJJ2fkZtr"
   },
   "outputs": [],
   "source": [
    "import random "
   ]
  },
  {
   "cell_type": "markdown",
   "metadata": {
    "id": "acj_aQAAkZtr"
   },
   "source": [
    "Let's create 10000 new shuffled datasets and let's keep track when one difference in average ages is greater than the observed experimental one"
   ]
  },
  {
   "cell_type": "code",
   "execution_count": null,
   "metadata": {
    "id": "RTwqupCBkZtr"
   },
   "outputs": [],
   "source": [
    "trials = 10000  ; count = 0\n",
    "\n",
    "for dumb in range(trials):\n",
    "    # Compute shuffled ages\n",
    "    random.shuffle(global_stat)\n",
    "    # Compute average of Group A\n",
    "    avg_A = sum(global_stat[:541])/541 \n",
    "    # Compute average of Group B\n",
    "    avg_B = sum(global_stat[541:])/774 \n",
    "    # Compute new shuffled difference \n",
    "    diff = avg_A - avg_B\n",
    "    if diff > dataset_property:\n",
    "        count +=1"
   ]
  },
  {
   "cell_type": "markdown",
   "metadata": {
    "id": "6ma70vUUkZtr"
   },
   "source": [
    "...and we finally arrive to the result"
   ]
  },
  {
   "cell_type": "code",
   "execution_count": null,
   "metadata": {
    "colab": {
     "base_uri": "https://localhost:8080/"
    },
    "executionInfo": {
     "elapsed": 24,
     "status": "ok",
     "timestamp": 1632861171545,
     "user": {
      "displayName": "davide ghio",
      "photoUrl": "https://lh3.googleusercontent.com/a/default-user=s64",
      "userId": "16033550004002351519"
     },
     "user_tz": -120
    },
    "id": "k4RYL1_pkZtr",
    "outputId": "52a361ee-59c1-4652-820e-f5aafce71b1f"
   },
   "outputs": [
    {
     "name": "stdout",
     "output_type": "stream",
     "text": [
      "The average age of Group A was less than the one of Group B 2 times\n"
     ]
    }
   ],
   "source": [
    "print(f\"The average age of Group A was less than the one of Group B {count} times\") "
   ]
  },
  {
   "cell_type": "markdown",
   "metadata": {
    "id": "LfxiGAGIkZts"
   },
   "source": [
    "We could safely $\\textbf{reject}$ the null hypothesis "
   ]
  },
  {
   "cell_type": "markdown",
   "metadata": {
    "id": "Ak3GTT6qk4rI"
   },
   "source": [
    "# $\\color{purple}{\\text{Bootstrap}}$ "
   ]
  },
  {
   "cell_type": "markdown",
   "metadata": {
    "id": "p05uNZyMnxav"
   },
   "source": [
    "**Bootstrap** is a resampling strategy with replacement that requires no assumptions about the data distribution. \n",
    "\n",
    "It allows us to make inferences about the population statistics when we only have a finite number of samples. In the following we will see how to use it to evaluate the **confidence interval** and the **variance** of an estimator, but it has many other applications.\n",
    "\n",
    "Even when we only have one sample, the bootstrap method provides a good enough approximation of the true population statistics."
   ]
  },
  {
   "cell_type": "markdown",
   "metadata": {
    "id": "cxNaDN7Gn0g1"
   },
   "source": [
    "### $\\color{darkblue}{\\text{Bootstrap and Confidence Interval}}$"
   ]
  },
  {
   "cell_type": "markdown",
   "metadata": {
    "id": "eqJygVRRpaXv"
   },
   "source": [
    "Question: **With one sample, how can we calculate the Confidence Interval for the median age of the Brexiteers and Remainers?**"
   ]
  },
  {
   "cell_type": "markdown",
   "metadata": {
    "id": "BieSf161elNG"
   },
   "source": [
    "Let's recall the dataset and isolate the age feature."
   ]
  },
  {
   "cell_type": "markdown",
   "metadata": {
    "id": "s0nA7e8sh1Ci"
   },
   "source": [
    "To do so we take a single column of the dataset, which is an object called `Series`, and turn it into a `numpy.ndarray` using `pd.Series.to_numpy`"
   ]
  },
  {
   "cell_type": "code",
   "execution_count": null,
   "metadata": {
    "id": "g4A_kIF-eogh"
   },
   "outputs": [],
   "source": [
    "brexit_ages = pd.Series.to_numpy(brexiteers['age'])\n",
    "remain_ages = pd.Series.to_numpy(remainers['age'])"
   ]
  },
  {
   "cell_type": "markdown",
   "metadata": {
    "id": "R59iurOsp-nc"
   },
   "source": [
    "First of all we compute the median for the two groups."
   ]
  },
  {
   "cell_type": "markdown",
   "metadata": {
    "id": "MhuANcdofDyx"
   },
   "source": [
    "Firstly we do it by hand, building the function *median_value()*:"
   ]
  },
  {
   "cell_type": "code",
   "execution_count": null,
   "metadata": {
    "id": "qd6OUEJvnI_Q"
   },
   "outputs": [],
   "source": [
    "def median_value(array):\n",
    "    \n",
    "    n = len(array)\n",
    "    \n",
    "    array.sort() # Return a sorted copy of the array some\n",
    "    \n",
    "    if n % 2 == 0: # even case\n",
    "        median1 = array[n//2]\n",
    "        median2 = array[n//2-1]\n",
    "        median = (median1+median2)/2\n",
    "    \n",
    "    else: # odd case\n",
    "        median = array[n//2]\n",
    "        \n",
    "    return median "
   ]
  },
  {
   "cell_type": "code",
   "execution_count": null,
   "metadata": {
    "colab": {
     "base_uri": "https://localhost:8080/"
    },
    "executionInfo": {
     "elapsed": 16,
     "status": "ok",
     "timestamp": 1632861171546,
     "user": {
      "displayName": "davide ghio",
      "photoUrl": "https://lh3.googleusercontent.com/a/default-user=s64",
      "userId": "16033550004002351519"
     },
     "user_tz": -120
    },
    "id": "EUCT3MHdtcnB",
    "outputId": "fe96931a-2af1-4bec-a6b0-7fd59cccd52e"
   },
   "outputs": [
    {
     "name": "stdout",
     "output_type": "stream",
     "text": [
      "The median age of brexiteers is 53\n"
     ]
    }
   ],
   "source": [
    "print(f\"The median age of brexiteers is {median_value(brexit_ages)}\")"
   ]
  },
  {
   "cell_type": "code",
   "execution_count": null,
   "metadata": {
    "colab": {
     "base_uri": "https://localhost:8080/"
    },
    "executionInfo": {
     "elapsed": 12,
     "status": "ok",
     "timestamp": 1632861171546,
     "user": {
      "displayName": "davide ghio",
      "photoUrl": "https://lh3.googleusercontent.com/a/default-user=s64",
      "userId": "16033550004002351519"
     },
     "user_tz": -120
    },
    "id": "KrNjwW4mqMaR",
    "outputId": "8ee59862-654e-42da-ecd9-777271528323"
   },
   "outputs": [
    {
     "name": "stdout",
     "output_type": "stream",
     "text": [
      "The median age of remainers is 47.0\n"
     ]
    }
   ],
   "source": [
    "print(f\"The median age of remainers is {median_value(remain_ages)}\")"
   ]
  },
  {
   "cell_type": "markdown",
   "metadata": {
    "id": "OhEQuYMQfmYV"
   },
   "source": [
    "Alternatively, one can use the `numpy` library and directly compute the median"
   ]
  },
  {
   "cell_type": "code",
   "execution_count": null,
   "metadata": {
    "colab": {
     "base_uri": "https://localhost:8080/"
    },
    "executionInfo": {
     "elapsed": 9,
     "status": "ok",
     "timestamp": 1632861171546,
     "user": {
      "displayName": "davide ghio",
      "photoUrl": "https://lh3.googleusercontent.com/a/default-user=s64",
      "userId": "16033550004002351519"
     },
     "user_tz": -120
    },
    "id": "SfeoW-n-eV9Z",
    "outputId": "d2264255-1004-4304-9b70-7d1833661631"
   },
   "outputs": [
    {
     "name": "stdout",
     "output_type": "stream",
     "text": [
      "The median age of brexiteers is 53.0 while the one of remainers is 47.0\n"
     ]
    }
   ],
   "source": [
    "print(f\"The median age of brexiteers is {np.median(brexit_ages)} while the one of remainers is {np.median(remain_ages)}\")"
   ]
  },
  {
   "cell_type": "markdown",
   "metadata": {
    "id": "DQM-yg3AgRKY"
   },
   "source": [
    "Now we use **bootstrap**: we repeatedly sample the two groups with replacement with the same sample size"
   ]
  },
  {
   "cell_type": "markdown",
   "metadata": {
    "id": "2baTznEsgwWg"
   },
   "source": [
    "Fist we start with Brexiteers, choosing $10000$ as the number of repetitions of the sampling"
   ]
  },
  {
   "cell_type": "code",
   "execution_count": null,
   "metadata": {
    "id": "G4-MC0Qtf5_D"
   },
   "outputs": [],
   "source": [
    "n = len(brexit_ages)\n",
    "\n",
    "reps =10000"
   ]
  },
  {
   "cell_type": "markdown",
   "metadata": {
    "id": "dnq6SR7rhRdq"
   },
   "source": [
    "We then use \n",
    "\n",
    "```\n",
    "np.random.choice(a, size=None, replace=True, p=None)\n",
    "```\n",
    "\n",
    "which generates a random sample of a certain size from a given 1-D array `a`. If `replace=True`, then a value of `a` can be selected multiple times.\n"
   ]
  },
  {
   "cell_type": "code",
   "execution_count": null,
   "metadata": {
    "id": "RYJFVQRthQI1"
   },
   "outputs": [],
   "source": [
    "np.random.seed(123)\n",
    "\n",
    "boot_brexit = np.random.choice(brexit_ages, (reps,n))\n",
    "boot_brexit_medians = np.median(boot_brexit, axis=1)"
   ]
  },
  {
   "cell_type": "markdown",
   "metadata": {
    "id": "qHKH_j_Eirgz"
   },
   "source": [
    "The results look like this"
   ]
  },
  {
   "cell_type": "code",
   "execution_count": null,
   "metadata": {
    "colab": {
     "base_uri": "https://localhost:8080/"
    },
    "executionInfo": {
     "elapsed": 23,
     "status": "ok",
     "timestamp": 1632861171935,
     "user": {
      "displayName": "davide ghio",
      "photoUrl": "https://lh3.googleusercontent.com/a/default-user=s64",
      "userId": "16033550004002351519"
     },
     "user_tz": -120
    },
    "id": "UtTIR14aiZEj",
    "outputId": "eedc0fe7-dd84-4dbc-9067-e55fde1840d5"
   },
   "outputs": [
    {
     "data": {
      "text/plain": [
       "array([[78, 62, 64, ..., 21, 60, 23],\n",
       "       [21, 26, 69, ..., 68, 33, 20],\n",
       "       [49, 26, 59, ..., 45, 64, 56],\n",
       "       [20, 61, 68, ..., 38, 50, 76],\n",
       "       [69, 43, 24, ..., 73, 51, 56]])"
      ]
     },
     "execution_count": 24,
     "metadata": {},
     "output_type": "execute_result"
    }
   ],
   "source": [
    "boot_brexit[:5]"
   ]
  },
  {
   "cell_type": "code",
   "execution_count": null,
   "metadata": {
    "colab": {
     "base_uri": "https://localhost:8080/"
    },
    "executionInfo": {
     "elapsed": 19,
     "status": "ok",
     "timestamp": 1632861171936,
     "user": {
      "displayName": "davide ghio",
      "photoUrl": "https://lh3.googleusercontent.com/a/default-user=s64",
      "userId": "16033550004002351519"
     },
     "user_tz": -120
    },
    "id": "sjMup-3wiy7a",
    "outputId": "c6bbc624-72ba-475b-b158-a7a4b011f69b"
   },
   "outputs": [
    {
     "data": {
      "text/plain": [
       "array([55., 54., 52., 53., 53.])"
      ]
     },
     "execution_count": 25,
     "metadata": {},
     "output_type": "execute_result"
    }
   ],
   "source": [
    "boot_brexit_medians[:5]"
   ]
  },
  {
   "cell_type": "markdown",
   "metadata": {
    "id": "sO6R_zyMjShf"
   },
   "source": [
    "Now we can compute the standard deviation and the confidence interval"
   ]
  },
  {
   "cell_type": "code",
   "execution_count": null,
   "metadata": {
    "colab": {
     "base_uri": "https://localhost:8080/"
    },
    "executionInfo": {
     "elapsed": 15,
     "status": "ok",
     "timestamp": 1632861171936,
     "user": {
      "displayName": "davide ghio",
      "photoUrl": "https://lh3.googleusercontent.com/a/default-user=s64",
      "userId": "16033550004002351519"
     },
     "user_tz": -120
    },
    "id": "n-5MuUtJjKnh",
    "outputId": "8b920064-5cf7-4bc2-cc1f-651704bde28a"
   },
   "outputs": [
    {
     "name": "stdout",
     "output_type": "stream",
     "text": [
      "The mean of the median age of brexiteers computed with bootstrap is 53.3389 \n"
     ]
    }
   ],
   "source": [
    "print(f\"The mean of the median age of brexiteers computed with bootstrap is {boot_brexit_medians.mean()} \")"
   ]
  },
  {
   "cell_type": "code",
   "execution_count": null,
   "metadata": {
    "colab": {
     "base_uri": "https://localhost:8080/"
    },
    "executionInfo": {
     "elapsed": 12,
     "status": "ok",
     "timestamp": 1632861171936,
     "user": {
      "displayName": "davide ghio",
      "photoUrl": "https://lh3.googleusercontent.com/a/default-user=s64",
      "userId": "16033550004002351519"
     },
     "user_tz": -120
    },
    "id": "glDhLqi9jUlJ",
    "outputId": "02eccb0f-b8b7-4423-fa93-521b92ba2bfc"
   },
   "outputs": [
    {
     "name": "stdout",
     "output_type": "stream",
     "text": [
      "The standard deviation of the median age of brexiteers computed with bootstrap is 1.2033481582650967 \n"
     ]
    }
   ],
   "source": [
    "print(f\"The standard deviation of the median age of brexiteers computed with bootstrap is {boot_brexit_medians.std()} \")"
   ]
  },
  {
   "cell_type": "markdown",
   "metadata": {
    "id": "dInY2hkEj5y5"
   },
   "source": [
    "For the C.I. we use `np.percentile` to compute which range of values you can be 95% confident contains the true mean of the median"
   ]
  },
  {
   "cell_type": "code",
   "execution_count": null,
   "metadata": {
    "colab": {
     "base_uri": "https://localhost:8080/"
    },
    "executionInfo": {
     "elapsed": 7,
     "status": "ok",
     "timestamp": 1632861171936,
     "user": {
      "displayName": "davide ghio",
      "photoUrl": "https://lh3.googleusercontent.com/a/default-user=s64",
      "userId": "16033550004002351519"
     },
     "user_tz": -120
    },
    "id": "lshxU8UTj0pH",
    "outputId": "d7a413a4-62fa-45a8-c014-b2b0ef839378"
   },
   "outputs": [
    {
     "name": "stdout",
     "output_type": "stream",
     "text": [
      "The C.I. for the median age of brexiteers computed with bootstrap is [51.0,55.0] \n"
     ]
    }
   ],
   "source": [
    "boot_brexit_median_CI = np.percentile(boot_brexit_medians, [2.5,97.5])\n",
    "print(f\"The C.I. for the median age of brexiteers computed with bootstrap is [{boot_brexit_median_CI[0]},{boot_brexit_median_CI[1]}] \")"
   ]
  },
  {
   "cell_type": "markdown",
   "metadata": {
    "id": "TPEOi5NklbOm"
   },
   "source": [
    "Now we do the same for remainers"
   ]
  },
  {
   "cell_type": "code",
   "execution_count": null,
   "metadata": {
    "id": "KoAh6KP8lJA9"
   },
   "outputs": [],
   "source": [
    "n = len(remain_ages)\n",
    "reps =10000\n",
    "\n",
    "boot_remain = np.random.choice(remain_ages, (reps,n))\n",
    "boot_remain_medians = np.median(boot_remain, axis=1)"
   ]
  },
  {
   "cell_type": "code",
   "execution_count": null,
   "metadata": {
    "colab": {
     "base_uri": "https://localhost:8080/"
    },
    "executionInfo": {
     "elapsed": 14,
     "status": "ok",
     "timestamp": 1632861172216,
     "user": {
      "displayName": "davide ghio",
      "photoUrl": "https://lh3.googleusercontent.com/a/default-user=s64",
      "userId": "16033550004002351519"
     },
     "user_tz": -120
    },
    "id": "uNvNL-tvluBo",
    "outputId": "c4e371d3-7ed8-412f-db13-d4f314d479fc"
   },
   "outputs": [
    {
     "name": "stdout",
     "output_type": "stream",
     "text": [
      "The mean of the median age of remainers computed with bootstrap is 47.5683 \n"
     ]
    }
   ],
   "source": [
    "print(f\"The mean of the median age of remainers computed with bootstrap is {boot_remain_medians.mean()} \")"
   ]
  },
  {
   "cell_type": "code",
   "execution_count": null,
   "metadata": {
    "colab": {
     "base_uri": "https://localhost:8080/"
    },
    "executionInfo": {
     "elapsed": 11,
     "status": "ok",
     "timestamp": 1632861172216,
     "user": {
      "displayName": "davide ghio",
      "photoUrl": "https://lh3.googleusercontent.com/a/default-user=s64",
      "userId": "16033550004002351519"
     },
     "user_tz": -120
    },
    "id": "brUGjwNSlzYR",
    "outputId": "a0303c3c-95f6-42f8-bad1-c1050a9d673a"
   },
   "outputs": [
    {
     "name": "stdout",
     "output_type": "stream",
     "text": [
      "The standard deviation of the median age of remainers computed with bootstrap is 1.535052152208517 \n"
     ]
    }
   ],
   "source": [
    "print(f\"The standard deviation of the median age of remainers computed with bootstrap is {boot_remain_medians.std()} \")"
   ]
  },
  {
   "cell_type": "code",
   "execution_count": null,
   "metadata": {
    "colab": {
     "base_uri": "https://localhost:8080/"
    },
    "executionInfo": {
     "elapsed": 9,
     "status": "ok",
     "timestamp": 1632861172216,
     "user": {
      "displayName": "davide ghio",
      "photoUrl": "https://lh3.googleusercontent.com/a/default-user=s64",
      "userId": "16033550004002351519"
     },
     "user_tz": -120
    },
    "id": "f5uL-EF6l-9E",
    "outputId": "22d45810-4619-4c70-fcf7-0529266ef4e9"
   },
   "outputs": [
    {
     "name": "stdout",
     "output_type": "stream",
     "text": [
      "The C.I. for the median age of remainers computed with bootstrap is [45.0,50.0] \n"
     ]
    }
   ],
   "source": [
    "boot_remain_median_CI = np.percentile(boot_remain_medians, [2.5,97.5])\n",
    "print(f\"The C.I. for the median age of remainers computed with bootstrap is [{boot_remain_median_CI[0]},{boot_remain_median_CI[1]}] \")"
   ]
  },
  {
   "cell_type": "code",
   "execution_count": null,
   "metadata": {
    "colab": {
     "base_uri": "https://localhost:8080/",
     "height": 352
    },
    "executionInfo": {
     "elapsed": 361,
     "status": "ok",
     "timestamp": 1632861172573,
     "user": {
      "displayName": "davide ghio",
      "photoUrl": "https://lh3.googleusercontent.com/a/default-user=s64",
      "userId": "16033550004002351519"
     },
     "user_tz": -120
    },
    "id": "Vq4Aav1mmmAy",
    "outputId": "07b2b43f-88bc-479e-f8c3-7e550735f2e6"
   },
   "outputs": [
    {
     "data": {
      "image/png": "[encoded data removed]",
      "text/plain": [
       "<Figure size 648x360 with 1 Axes>"
      ]
     },
     "metadata": {
      "needs_background": "light"
     },
     "output_type": "display_data"
    }
   ],
   "source": [
    "fig = plt.figure(figsize=(9,5))\n",
    "ax = fig.add_subplot(111)\n",
    "plt.title(\"Median age distribution\", size = 16)\n",
    "ax.hist(boot_brexit_medians, color ='darkred', label = f\"Brexiteers\")\n",
    "plt.axvline(boot_brexit_median_CI[0],color = 'red',linewidth=2)\n",
    "plt.axvline(boot_brexit_median_CI[1],color = 'red',linewidth=2)\n",
    "ax.hist(boot_remain_medians, color ='darkblue', label = f\"Remainers\")\n",
    "plt.axvline(boot_remain_median_CI[0],color = 'blue',linewidth=2)\n",
    "plt.axvline(boot_remain_median_CI[1],color = 'blue',linewidth=2)\n",
    "ax.set(xlabel =\"Age\" , ylabel = \"#(occurrences)\")\n",
    "ax.legend();"
   ]
  },
  {
   "cell_type": "markdown",
   "metadata": {
    "id": "CEvMDVrvmSqq"
   },
   "source": [
    "We see that the two intervals are not overlapping"
   ]
  },
  {
   "cell_type": "markdown",
   "metadata": {
    "id": "-s5-6DbwvYQz"
   },
   "source": [
    "# $\\color{purple}{\\text{Your turn - Titanic}}$ "
   ]
  },
  {
   "cell_type": "markdown",
   "metadata": {
    "id": "QVUYnv80nNXv"
   },
   "source": [
    "\n",
    "The sinking of the Titanic is one of the most infamous shipwrecks in history.\n",
    "\n",
    "On April 15, 1912, during her maiden voyage, the widely considered “unsinkable” RMS Titanic sank after colliding with an iceberg. Unfortunately, there weren’t enough lifeboats for everyone onboard, resulting in the death of the majority of passengers and crew.\n",
    "\n",
    "While there was some element of luck involved in surviving, it seems some groups of people were more likely to survive than others."
   ]
  },
  {
   "cell_type": "markdown",
   "metadata": {
    "id": "OWF0LOe_wl4a"
   },
   "source": [
    "**The data set:**"
   ]
  },
  {
   "cell_type": "markdown",
   "metadata": {
    "id": "4P4jtgfcwiXz"
   },
   "source": [
    "First of all, we need to import the data from the csv file you can find [in this github](https://raw.githubusercontent.com/datasciencedojo/datasets/master/titanic.csv)"
   ]
  },
  {
   "cell_type": "markdown",
   "metadata": {
    "id": "tK6F6Bgx8qsf"
   },
   "source": [
    "### $\\color{darkblue}{\\text{Exercises:}}$"
   ]
  },
  {
   "cell_type": "markdown",
   "metadata": {
    "id": "FqaTj9p-b3l_"
   },
   "source": [
    "#### **Age and Ticket fares**"
   ]
  },
  {
   "cell_type": "markdown",
   "metadata": {
    "id": "o208x4_uwM74"
   },
   "source": [
    "##### 0)\n",
    "\n",
    "*   Import the dataset using `pd.read_csv` and visualize the data\n",
    "*   How many features are there?"
   ]
  },
  {
   "cell_type": "code",
   "execution_count": null,
   "metadata": {
    "colab": {
     "base_uri": "https://localhost:8080/",
     "height": 423
    },
    "executionInfo": {
     "elapsed": 419,
     "status": "ok",
     "timestamp": 1632861172988,
     "user": {
      "displayName": "davide ghio",
      "photoUrl": "https://lh3.googleusercontent.com/a/default-user=s64",
      "userId": "16033550004002351519"
     },
     "user_tz": -120
    },
    "id": "9AtLW7pqwPmZ",
    "outputId": "e3fc503b-6bd2-440c-869a-088a26b16ac5"
   },
   "outputs": [
    {
     "data": {
      "text/html": [
       "<div>\n",
       "<style scoped>\n",
       "    .dataframe tbody tr th:only-of-type {\n",
       "        vertical-align: middle;\n",
       "    }\n",
       "\n",
       "    .dataframe tbody tr th {\n",
       "        vertical-align: top;\n",
       "    }\n",
       "\n",
       "    .dataframe thead th {\n",
       "        text-align: right;\n",
       "    }\n",
       "</style>\n",
       "<table border=\"1\" class=\"dataframe\">\n",
       "  <thead>\n",
       "    <tr style=\"text-align: right;\">\n",
       "      <th></th>\n",
       "      <th>PassengerId</th>\n",
       "      <th>Survived</th>\n",
       "      <th>Pclass</th>\n",
       "      <th>Name</th>\n",
       "      <th>Sex</th>\n",
       "      <th>Age</th>\n",
       "      <th>SibSp</th>\n",
       "      <th>Parch</th>\n",
       "      <th>Ticket</th>\n",
       "      <th>Fare</th>\n",
       "      <th>Cabin</th>\n",
       "      <th>Embarked</th>\n",
       "    </tr>\n",
       "  </thead>\n",
       "  <tbody>\n",
       "    <tr>\n",
       "      <th>0</th>\n",
       "      <td>1</td>\n",
       "      <td>0</td>\n",
       "      <td>3</td>\n",
       "      <td>Braund, Mr. Owen Harris</td>\n",
       "      <td>male</td>\n",
       "      <td>22.0</td>\n",
       "      <td>1</td>\n",
       "      <td>0</td>\n",
       "      <td>A/5 21171</td>\n",
       "      <td>7.2500</td>\n",
       "      <td>NaN</td>\n",
       "      <td>S</td>\n",
       "    </tr>\n",
       "    <tr>\n",
       "      <th>1</th>\n",
       "      <td>2</td>\n",
       "      <td>1</td>\n",
       "      <td>1</td>\n",
       "      <td>Cumings, Mrs. John Bradley (Florence Briggs Th...</td>\n",
       "      <td>female</td>\n",
       "      <td>38.0</td>\n",
       "      <td>1</td>\n",
       "      <td>0</td>\n",
       "      <td>PC 17599</td>\n",
       "      <td>71.2833</td>\n",
       "      <td>C85</td>\n",
       "      <td>C</td>\n",
       "    </tr>\n",
       "    <tr>\n",
       "      <th>2</th>\n",
       "      <td>3</td>\n",
       "      <td>1</td>\n",
       "      <td>3</td>\n",
       "      <td>Heikkinen, Miss. Laina</td>\n",
       "      <td>female</td>\n",
       "      <td>26.0</td>\n",
       "      <td>0</td>\n",
       "      <td>0</td>\n",
       "      <td>STON/O2. 3101282</td>\n",
       "      <td>7.9250</td>\n",
       "      <td>NaN</td>\n",
       "      <td>S</td>\n",
       "    </tr>\n",
       "    <tr>\n",
       "      <th>3</th>\n",
       "      <td>4</td>\n",
       "      <td>1</td>\n",
       "      <td>1</td>\n",
       "      <td>Futrelle, Mrs. Jacques Heath (Lily May Peel)</td>\n",
       "      <td>female</td>\n",
       "      <td>35.0</td>\n",
       "      <td>1</td>\n",
       "      <td>0</td>\n",
       "      <td>113803</td>\n",
       "      <td>53.1000</td>\n",
       "      <td>C123</td>\n",
       "      <td>S</td>\n",
       "    </tr>\n",
       "    <tr>\n",
       "      <th>4</th>\n",
       "      <td>5</td>\n",
       "      <td>0</td>\n",
       "      <td>3</td>\n",
       "      <td>Allen, Mr. William Henry</td>\n",
       "      <td>male</td>\n",
       "      <td>35.0</td>\n",
       "      <td>0</td>\n",
       "      <td>0</td>\n",
       "      <td>373450</td>\n",
       "      <td>8.0500</td>\n",
       "      <td>NaN</td>\n",
       "      <td>S</td>\n",
       "    </tr>\n",
       "    <tr>\n",
       "      <th>...</th>\n",
       "      <td>...</td>\n",
       "      <td>...</td>\n",
       "      <td>...</td>\n",
       "      <td>...</td>\n",
       "      <td>...</td>\n",
       "      <td>...</td>\n",
       "      <td>...</td>\n",
       "      <td>...</td>\n",
       "      <td>...</td>\n",
       "      <td>...</td>\n",
       "      <td>...</td>\n",
       "      <td>...</td>\n",
       "    </tr>\n",
       "    <tr>\n",
       "      <th>886</th>\n",
       "      <td>887</td>\n",
       "      <td>0</td>\n",
       "      <td>2</td>\n",
       "      <td>Montvila, Rev. Juozas</td>\n",
       "      <td>male</td>\n",
       "      <td>27.0</td>\n",
       "      <td>0</td>\n",
       "      <td>0</td>\n",
       "      <td>211536</td>\n",
       "      <td>13.0000</td>\n",
       "      <td>NaN</td>\n",
       "      <td>S</td>\n",
       "    </tr>\n",
       "    <tr>\n",
       "      <th>887</th>\n",
       "      <td>888</td>\n",
       "      <td>1</td>\n",
       "      <td>1</td>\n",
       "      <td>Graham, Miss. Margaret Edith</td>\n",
       "      <td>female</td>\n",
       "      <td>19.0</td>\n",
       "      <td>0</td>\n",
       "      <td>0</td>\n",
       "      <td>112053</td>\n",
       "      <td>30.0000</td>\n",
       "      <td>B42</td>\n",
       "      <td>S</td>\n",
       "    </tr>\n",
       "    <tr>\n",
       "      <th>888</th>\n",
       "      <td>889</td>\n",
       "      <td>0</td>\n",
       "      <td>3</td>\n",
       "      <td>Johnston, Miss. Catherine Helen \"Carrie\"</td>\n",
       "      <td>female</td>\n",
       "      <td>NaN</td>\n",
       "      <td>1</td>\n",
       "      <td>2</td>\n",
       "      <td>W./C. 6607</td>\n",
       "      <td>23.4500</td>\n",
       "      <td>NaN</td>\n",
       "      <td>S</td>\n",
       "    </tr>\n",
       "    <tr>\n",
       "      <th>889</th>\n",
       "      <td>890</td>\n",
       "      <td>1</td>\n",
       "      <td>1</td>\n",
       "      <td>Behr, Mr. Karl Howell</td>\n",
       "      <td>male</td>\n",
       "      <td>26.0</td>\n",
       "      <td>0</td>\n",
       "      <td>0</td>\n",
       "      <td>111369</td>\n",
       "      <td>30.0000</td>\n",
       "      <td>C148</td>\n",
       "      <td>C</td>\n",
       "    </tr>\n",
       "    <tr>\n",
       "      <th>890</th>\n",
       "      <td>891</td>\n",
       "      <td>0</td>\n",
       "      <td>3</td>\n",
       "      <td>Dooley, Mr. Patrick</td>\n",
       "      <td>male</td>\n",
       "      <td>32.0</td>\n",
       "      <td>0</td>\n",
       "      <td>0</td>\n",
       "      <td>370376</td>\n",
       "      <td>7.7500</td>\n",
       "      <td>NaN</td>\n",
       "      <td>Q</td>\n",
       "    </tr>\n",
       "  </tbody>\n",
       "</table>\n",
       "<p>891 rows × 12 columns</p>\n",
       "</div>"
      ],
      "text/plain": [
       "     PassengerId  Survived  Pclass  ...     Fare Cabin  Embarked\n",
       "0              1         0       3  ...   7.2500   NaN         S\n",
       "1              2         1       1  ...  71.2833   C85         C\n",
       "2              3         1       3  ...   7.9250   NaN         S\n",
       "3              4         1       1  ...  53.1000  C123         S\n",
       "4              5         0       3  ...   8.0500   NaN         S\n",
       "..           ...       ...     ...  ...      ...   ...       ...\n",
       "886          887         0       2  ...  13.0000   NaN         S\n",
       "887          888         1       1  ...  30.0000   B42         S\n",
       "888          889         0       3  ...  23.4500   NaN         S\n",
       "889          890         1       1  ...  30.0000  C148         C\n",
       "890          891         0       3  ...   7.7500   NaN         Q\n",
       "\n",
       "[891 rows x 12 columns]"
      ]
     },
     "execution_count": 34,
     "metadata": {},
     "output_type": "execute_result"
    }
   ],
   "source": [
    "import pandas as pd\n",
    "\n",
    "data_raw = pd.read_csv(\"https://raw.githubusercontent.com/datasciencedojo/datasets/master/titanic.csv\", comment=\"#\")\n",
    "data_raw"
   ]
  },
  {
   "cell_type": "code",
   "execution_count": null,
   "metadata": {
    "colab": {
     "base_uri": "https://localhost:8080/"
    },
    "executionInfo": {
     "elapsed": 10,
     "status": "ok",
     "timestamp": 1632861172988,
     "user": {
      "displayName": "davide ghio",
      "photoUrl": "https://lh3.googleusercontent.com/a/default-user=s64",
      "userId": "16033550004002351519"
     },
     "user_tz": -120
    },
    "id": "QcABk92Aw1nl",
    "outputId": "7b2cedd3-e499-4929-fd25-c74e0b95487f"
   },
   "outputs": [
    {
     "name": "stdout",
     "output_type": "stream",
     "text": [
      "There are 12 features in total\n"
     ]
    }
   ],
   "source": [
    "print(f\"There are {len(data_raw.columns)} features in total\")"
   ]
  },
  {
   "cell_type": "markdown",
   "metadata": {
    "id": "C3nsTblVS8jc"
   },
   "source": [
    "##### 1)\n",
    "*   Select the features corresponding to the Age and to the Survival\n",
    "*   Eliminate artifacts (you can use `dropna(how='any')` to eliminate passengers with unknown data)\n",
    "*   Compute the percentage of survivors $P(Survived=1)$"
   ]
  },
  {
   "cell_type": "code",
   "execution_count": null,
   "metadata": {
    "colab": {
     "base_uri": "https://localhost:8080/"
    },
    "executionInfo": {
     "elapsed": 8,
     "status": "ok",
     "timestamp": 1632861172989,
     "user": {
      "displayName": "davide ghio",
      "photoUrl": "https://lh3.googleusercontent.com/a/default-user=s64",
      "userId": "16033550004002351519"
     },
     "user_tz": -120
    },
    "id": "6Va8RaSEXZBD",
    "outputId": "08a473d9-0af9-4c61-84c4-f05bef3094f0"
   },
   "outputs": [
    {
     "name": "stdout",
     "output_type": "stream",
     "text": [
      "The percentage of Survivors is 0.384\n"
     ]
    }
   ],
   "source": [
    "data = data_raw[['Age', 'Survived']]\n",
    "data.dropna(how='any')\n",
    "\n",
    "Survivers = data[data['Survived'] == 1]\n",
    "Dead = data[data['Survived'] == 0]\n",
    "\n",
    "print(\"The percentage of Survivors is {:.3f}\".format(len(Survivers)/(len(Survivers) + len(Dead))))"
   ]
  },
  {
   "cell_type": "markdown",
   "metadata": {
    "id": "bC61uafPzBYb"
   },
   "source": [
    "##### 2)\n",
    "\n",
    "*   Plot, using `hist`, the distribution of ages, separating the Survivers from the Dead \n",
    "*   Compute the difference between the average age of the two groups\n",
    "\n"
   ]
  },
  {
   "cell_type": "code",
   "execution_count": null,
   "metadata": {
    "colab": {
     "base_uri": "https://localhost:8080/",
     "height": 370
    },
    "executionInfo": {
     "elapsed": 616,
     "status": "ok",
     "timestamp": 1632861173600,
     "user": {
      "displayName": "davide ghio",
      "photoUrl": "https://lh3.googleusercontent.com/a/default-user=s64",
      "userId": "16033550004002351519"
     },
     "user_tz": -120
    },
    "id": "zaOdzqFNXZBK",
    "outputId": "52dce034-5d45-48ce-e1b1-c66a66bc52a1"
   },
   "outputs": [
    {
     "data": {
      "image/png": "[encoded data removed]",
      "text/plain": [
       "<Figure size 1080x360 with 2 Axes>"
      ]
     },
     "metadata": {
      "needs_background": "light"
     },
     "output_type": "display_data"
    }
   ],
   "source": [
    "import matplotlib.pyplot as plt\n",
    "\n",
    "fig, ax = plt.subplots(1,2, figsize=(15,5), sharex=True)\n",
    "plt.suptitle(\"Age distribution\", size = 18)\n",
    "\n",
    "ax[0].set_title(f\"Survivers\")\n",
    "ax[0].hist(Survivers['Age'], bins=15, color ='darkred')\n",
    "ax[0].set(xlabel =\"Age\" , ylabel = \"# (people)\")\n",
    "\n",
    "ax[1].set_title(f\"Dead\")\n",
    "ax[1].hist(Dead['Age'], bins=15, color ='darkblue')\n",
    "ax[1].set(xlabel =\"Age\" , ylabel = \"# (people)\");"
   ]
  },
  {
   "cell_type": "markdown",
   "metadata": {
    "id": "WwvuldTnP0Uf"
   },
   "source": [
    "It's clear to see that there is a peak at low values of Age"
   ]
  },
  {
   "cell_type": "code",
   "execution_count": null,
   "metadata": {
    "colab": {
     "base_uri": "https://localhost:8080/"
    },
    "executionInfo": {
     "elapsed": 13,
     "status": "ok",
     "timestamp": 1632861173600,
     "user": {
      "displayName": "davide ghio",
      "photoUrl": "https://lh3.googleusercontent.com/a/default-user=s64",
      "userId": "16033550004002351519"
     },
     "user_tz": -120
    },
    "id": "aUy_iSM8XZBO",
    "outputId": "1fad40a5-1d7a-474a-abae-e79749595be0"
   },
   "outputs": [
    {
     "name": "stdout",
     "output_type": "stream",
     "text": [
      "The difference in average age is -2.282\n"
     ]
    }
   ],
   "source": [
    "import numpy as np\n",
    "\n",
    "avg_S = np.mean(Survivers['Age'])\n",
    "avg_D = np.mean(Dead['Age'])\n",
    "print(\"The difference in average age is {:.3f}\".format(avg_S - avg_D))"
   ]
  },
  {
   "cell_type": "markdown",
   "metadata": {
    "id": "GC5uKfXqQDjs"
   },
   "source": [
    "##### 3)\n",
    "*   Select the features corresponding to the Fare and to the Survival\n",
    "*   Eliminate artifacts\n",
    "*   Compute the difference between the average fare of the two groups"
   ]
  },
  {
   "cell_type": "code",
   "execution_count": null,
   "metadata": {
    "colab": {
     "base_uri": "https://localhost:8080/"
    },
    "executionInfo": {
     "elapsed": 11,
     "status": "ok",
     "timestamp": 1632861173602,
     "user": {
      "displayName": "davide ghio",
      "photoUrl": "https://lh3.googleusercontent.com/a/default-user=s64",
      "userId": "16033550004002351519"
     },
     "user_tz": -120
    },
    "id": "RS8RpMGbP_Zt",
    "outputId": "a1df9747-0857-4ae0-cfa6-22eb19f661c5"
   },
   "outputs": [
    {
     "name": "stdout",
     "output_type": "stream",
     "text": [
      "The difference in average fare is 26.278\n"
     ]
    }
   ],
   "source": [
    "data = data_raw[['Fare', 'Survived']]\n",
    "data.dropna(how='any')\n",
    "\n",
    "Survivers = data[data['Survived'] == 1]\n",
    "Dead = data[data['Survived'] == 0]\n",
    "\n",
    "avg_S = np.mean(Survivers['Fare'])\n",
    "avg_D = np.mean(Dead['Fare'])\n",
    "dataset_property = avg_S - avg_D\n",
    "print(\"The difference in average fare is {:.3f}\".format(dataset_property)) \n"
   ]
  },
  {
   "cell_type": "markdown",
   "metadata": {
    "id": "8e5e01nhXZBQ"
   },
   "source": [
    "##### 4) Use Resampling to test the **Null hypothesis**"
   ]
  },
  {
   "cell_type": "code",
   "execution_count": null,
   "metadata": {
    "colab": {
     "base_uri": "https://localhost:8080/"
    },
    "executionInfo": {
     "elapsed": 6875,
     "status": "ok",
     "timestamp": 1632861180471,
     "user": {
      "displayName": "davide ghio",
      "photoUrl": "https://lh3.googleusercontent.com/a/default-user=s64",
      "userId": "16033550004002351519"
     },
     "user_tz": -120
    },
    "id": "upAAfuCqXZBQ",
    "outputId": "ffc54b8f-5f2f-405f-f8c5-f9205409df50"
   },
   "outputs": [
    {
     "name": "stdout",
     "output_type": "stream",
     "text": [
      "The average fare of Group A was less than the one of Group B 0 times out of 10000 trials\n"
     ]
    }
   ],
   "source": [
    "# Create a list with all fares\n",
    "global_stat = list(Survivers['Fare']) +  list(Dead['Fare'])\n",
    "\n",
    "import random \n",
    "trials = 10000  ; count = 0\n",
    "\n",
    "for dumb in range(trials):\n",
    "    # Compute shuffled ares\n",
    "    random.shuffle(global_stat)\n",
    "    # Compute average of Group A\n",
    "    avg_A = sum(global_stat[:342])/342 \n",
    "    # Compute average of Group B\n",
    "    avg_B = sum(global_stat[549:])/549\n",
    "    # Compute new shuffled difference \n",
    "    diff = avg_A - avg_B\n",
    "    if diff > dataset_property:\n",
    "        count +=1\n",
    "\n",
    "print(f\"The average fare of Group A was less than the one of Group B {count} times out of {trials} trials\") "
   ]
  },
  {
   "cell_type": "markdown",
   "metadata": {
    "id": "Ih4zNu3rXZBU"
   },
   "source": [
    "We could safely $\\textbf{reject}$ the null hypothesis "
   ]
  },
  {
   "cell_type": "markdown",
   "metadata": {
    "id": "pvogP9w1faHA"
   },
   "source": [
    "##### 5) Concentrate on the Fare feature and compute the median correspondent to the two groups"
   ]
  },
  {
   "cell_type": "code",
   "execution_count": null,
   "metadata": {
    "colab": {
     "base_uri": "https://localhost:8080/"
    },
    "executionInfo": {
     "elapsed": 22,
     "status": "ok",
     "timestamp": 1632861180472,
     "user": {
      "displayName": "davide ghio",
      "photoUrl": "https://lh3.googleusercontent.com/a/default-user=s64",
      "userId": "16033550004002351519"
     },
     "user_tz": -120
    },
    "id": "1nZdUyp_faHB",
    "outputId": "562c0698-7d86-4f96-b186-f72c034061b5"
   },
   "outputs": [
    {
     "name": "stdout",
     "output_type": "stream",
     "text": [
      "The median fare of Survivers is 26.0 while the one of dead is 10.5\n"
     ]
    }
   ],
   "source": [
    "S_fares = pd.Series.to_numpy(Survivers['Fare'])\n",
    "D_fares = pd.Series.to_numpy(Dead['Fare'])\n",
    "\n",
    "print(f\"The median fare of Survivers is {np.median(S_fares)} while the one of dead is {np.median(D_fares)}\")"
   ]
  },
  {
   "cell_type": "markdown",
   "metadata": {
    "id": "ccfakMOlfaHK"
   },
   "source": [
    "##### 6) Now we use **bootstrap** for each of the two groups: \n",
    "\n",
    "* Sample the Fares 10000 times with replacement (with the same sample size) using `np.random.choice`\n",
    "* Compute the Confidence Interval (95%) for the median using `np.percentile`"
   ]
  },
  {
   "cell_type": "code",
   "execution_count": null,
   "metadata": {
    "id": "fzob3U44faHM"
   },
   "outputs": [],
   "source": [
    "reps =10000\n",
    "\n",
    "nS = len(S_fares)\n",
    "boot_S = np.random.choice(S_fares, (reps,nS))\n",
    "boot_S_medians = np.median(boot_S, axis=1)\n",
    "\n",
    "nD = len(D_fares)\n",
    "boot_D = np.random.choice(D_fares, (reps,nD))\n",
    "boot_D_medians = np.median(boot_D, axis=1)"
   ]
  },
  {
   "cell_type": "code",
   "execution_count": null,
   "metadata": {
    "colab": {
     "base_uri": "https://localhost:8080/"
    },
    "executionInfo": {
     "elapsed": 34,
     "status": "ok",
     "timestamp": 1632861181117,
     "user": {
      "displayName": "davide ghio",
      "photoUrl": "https://lh3.googleusercontent.com/a/default-user=s64",
      "userId": "16033550004002351519"
     },
     "user_tz": -120
    },
    "id": "fkEPgn_2faHV",
    "outputId": "72e14937-8ce4-48cd-d429-dce398de2bb6"
   },
   "outputs": [
    {
     "name": "stdout",
     "output_type": "stream",
     "text": [
      "The C.I. for the median fare of Survivers computed with bootstrap is [23.0,26.55] \n",
      "The C.I. for the median fare of the dead computed with bootstrap is [9.2167,13.0] \n"
     ]
    }
   ],
   "source": [
    "boot_S_median_CI = np.percentile(boot_S_medians, [2.5,97.5])\n",
    "boot_D_median_CI = np.percentile(boot_D_medians, [2.5,97.5])\n",
    "\n",
    "print(f\"The C.I. for the median fare of Survivers computed with bootstrap is [{boot_S_median_CI[0]},{boot_S_median_CI[1]}] \")\n",
    "print(f\"The C.I. for the median fare of the dead computed with bootstrap is [{boot_D_median_CI[0]},{boot_D_median_CI[1]}] \")"
   ]
  },
  {
   "cell_type": "markdown",
   "metadata": {
    "id": "YBlXh4CG6INX"
   },
   "source": [
    "##### 7)\n",
    "\n",
    "* Plot the median rate distribution, including the relative confidence intervals\n",
    "* What can we say?"
   ]
  },
  {
   "cell_type": "code",
   "execution_count": null,
   "metadata": {
    "colab": {
     "base_uri": "https://localhost:8080/",
     "height": 406
    },
    "executionInfo": {
     "elapsed": 340,
     "status": "ok",
     "timestamp": 1632861181439,
     "user": {
      "displayName": "davide ghio",
      "photoUrl": "https://lh3.googleusercontent.com/a/default-user=s64",
      "userId": "16033550004002351519"
     },
     "user_tz": -120
    },
    "id": "qbvv5undfaHb",
    "outputId": "dbef5c80-43ea-45cc-d709-a94d3c93b8bf"
   },
   "outputs": [
    {
     "data": {
      "image/png": "[encoded data removed]",
      "text/plain": [
       "<Figure size 648x432 with 1 Axes>"
      ]
     },
     "metadata": {
      "needs_background": "light"
     },
     "output_type": "display_data"
    }
   ],
   "source": [
    "fig = plt.figure(figsize=(9,6))\n",
    "ax = fig.add_subplot(111)\n",
    "plt.title(\"Median fare distribution\", size = 16)\n",
    "ax.hist(boot_S_medians, color ='darkred',bins=6, label = f\"Survivers\")\n",
    "plt.axvline(boot_S_median_CI[0],color = 'red',linewidth=2)\n",
    "plt.axvline(boot_S_median_CI[1],color = 'red',linewidth=2)\n",
    "ax.hist(boot_D_medians, color ='darkblue', bins=5, label = f\"Dead\")\n",
    "plt.axvline(boot_D_median_CI[0],color = 'blue',linewidth=2)\n",
    "plt.axvline(boot_D_median_CI[1],color = 'blue',linewidth=2)\n",
    "ax.set(xlabel =\"Median fare\" , ylabel = \"#(occurrences)\")\n",
    "ax.legend();"
   ]
  },
  {
   "cell_type": "markdown",
   "metadata": {
    "id": "i_mLhDls6n64"
   },
   "source": [
    "##### 8) Use bootstrap to compute the variance of the medians of the two groups"
   ]
  },
  {
   "cell_type": "code",
   "execution_count": null,
   "metadata": {
    "colab": {
     "base_uri": "https://localhost:8080/"
    },
    "executionInfo": {
     "elapsed": 50,
     "status": "ok",
     "timestamp": 1632861181445,
     "user": {
      "displayName": "davide ghio",
      "photoUrl": "https://lh3.googleusercontent.com/a/default-user=s64",
      "userId": "16033550004002351519"
     },
     "user_tz": -120
    },
    "id": "9MglV32z6qPu",
    "outputId": "437cdd4f-e965-4869-84ef-ac3ad043821e"
   },
   "outputs": [
    {
     "name": "stdout",
     "output_type": "stream",
     "text": [
      "The variance for the median fare of Survivers computed with bootstrap is 1.014, while for the dead is 0.696 \n"
     ]
    }
   ],
   "source": [
    "boot_S_median_variance = np.var(boot_S_medians)\n",
    "boot_D_median_variance = np.var(boot_D_medians)\n",
    "\n",
    "print(\"The variance for the median fare of Survivers computed with bootstrap is {:.3f}, while for the dead is {:.3f} \".format(boot_S_median_variance,boot_D_median_variance))"
   ]
  },
  {
   "cell_type": "markdown",
   "metadata": {
    "id": "D0Cq4krkcRKp"
   },
   "source": [
    "#### **Other features**"
   ]
  },
  {
   "cell_type": "markdown",
   "metadata": {
    "id": "mLgob8Qnc7IX"
   },
   "source": [
    "Now we analyse the impact of other features on the survival of the passengers:\n",
    "\n",
    "* **Sex**\n",
    "* **Pclass**$\\;\\in\\{1,2,3\\}$ is the passenger-class"
   ]
  },
  {
   "cell_type": "markdown",
   "metadata": {
    "id": "zw3kZCjicdx-"
   },
   "source": [
    "##### Compute the following conditional probabilities:\n",
    "\n",
    "* $P(Survived=1\\;|\\; Sex = female)$\n",
    "* $P(Survived=1\\;|\\; Sex = male)$"
   ]
  },
  {
   "cell_type": "code",
   "execution_count": null,
   "metadata": {
    "colab": {
     "base_uri": "https://localhost:8080/"
    },
    "executionInfo": {
     "elapsed": 42,
     "status": "ok",
     "timestamp": 1632861181452,
     "user": {
      "displayName": "davide ghio",
      "photoUrl": "https://lh3.googleusercontent.com/a/default-user=s64",
      "userId": "16033550004002351519"
     },
     "user_tz": -120
    },
    "id": "RJmt-V2dbTjq",
    "outputId": "4403bcfd-114c-44d7-a261-50b3c41f1d19"
   },
   "outputs": [
    {
     "name": "stdout",
     "output_type": "stream",
     "text": [
      "The percentage of female survivors is 0.742, while for men it is 0.189\n"
     ]
    }
   ],
   "source": [
    "data = data_raw[['Sex', 'Survived']]\n",
    "data.dropna(how='any')\n",
    "\n",
    "Women = data[data['Sex'] == 'female']\n",
    "Men = data[data['Sex'] == 'male']\n",
    "\n",
    "print(\"The percentage of female survivors is {:.3f}, while for men it is {:.3f}\".format(Women['Survived'].sum()/len(Women),Men['Survived'].sum()/len(Men)))"
   ]
  },
  {
   "cell_type": "markdown",
   "metadata": {
    "id": "tINBXYm3sfHt"
   },
   "source": [
    "##### Compute the following conditional probabilities:\n",
    "\n",
    "* $P(Survived=1\\;|\\; Sex = male\\;,\\; Pclass = 1)$\n",
    "* $P(Survived=1\\;|\\; Sex = male\\;,\\; Pclass = 2)$\n",
    "* $P(Survived=1\\;|\\; Sex = male\\;,\\; Pclass = 3)$\n",
    "\n",
    "After finding the values of $Pclass$ corresponding to the highest and the lowest value of survival rate, test the hypothesis that the difference is due to the limited number of data."
   ]
  },
  {
   "cell_type": "code",
   "execution_count": null,
   "metadata": {
    "colab": {
     "base_uri": "https://localhost:8080/"
    },
    "executionInfo": {
     "elapsed": 255,
     "status": "ok",
     "timestamp": 1632861202124,
     "user": {
      "displayName": "davide ghio",
      "photoUrl": "https://lh3.googleusercontent.com/a/default-user=s64",
      "userId": "16033550004002351519"
     },
     "user_tz": -120
    },
    "id": "yH59SQgtsrIu",
    "outputId": "c797ce54-4945-451d-92a6-163ffb7b4f07"
   },
   "outputs": [
    {
     "name": "stdout",
     "output_type": "stream",
     "text": [
      "The percentage of male survivors in 1st class is 0.369\n",
      "The percentage of male survivors in 2st class is 0.157\n",
      "The percentage of male survivors in 3st class is 0.135\n"
     ]
    }
   ],
   "source": [
    "data = data_raw[['Sex','Pclass' ,'Survived']]\n",
    "data.dropna(how='any')\n",
    "\n",
    "Men_1class = data[(data['Sex'] == 'male')&( data['Pclass'] == 1 )]\n",
    "Men_2class = data[(data['Sex'] == 'male')&( data['Pclass'] == 2 )]\n",
    "Men_3class = data[(data['Sex'] == 'male')&( data['Pclass'] == 3 )]\n",
    "\n",
    "print(\"The percentage of male survivors in 1st class is {:.3f}\".format(Men_1class['Survived'].sum()/len(Men_1class)))\n",
    "print(\"The percentage of male survivors in 2st class is {:.3f}\".format(Men_2class['Survived'].sum()/len(Men_2class)))\n",
    "print(\"The percentage of male survivors in 3st class is {:.3f}\".format(Men_3class['Survived'].sum()/len(Men_3class)))\n"
   ]
  },
  {
   "cell_type": "code",
   "execution_count": null,
   "metadata": {
    "colab": {
     "base_uri": "https://localhost:8080/"
    },
    "executionInfo": {
     "elapsed": 261,
     "status": "ok",
     "timestamp": 1632861206130,
     "user": {
      "displayName": "davide ghio",
      "photoUrl": "https://lh3.googleusercontent.com/a/default-user=s64",
      "userId": "16033550004002351519"
     },
     "user_tz": -120
    },
    "id": "HsNN5x5qYxA6",
    "outputId": "14f47a21-ba37-4dae-b3af-949f836e9b90"
   },
   "outputs": [
    {
     "name": "stdout",
     "output_type": "stream",
     "text": [
      "The difference in the percentage of survivors is 0.233\n"
     ]
    }
   ],
   "source": [
    "dataset_property = Men_1class['Survived'].sum()/len(Men_1class) - Men_3class['Survived'].sum()/len(Men_3class)\n",
    "print(\"The difference in the percentage of survivors is {:.3f}\".format(dataset_property)) \n"
   ]
  },
  {
   "cell_type": "code",
   "execution_count": null,
   "metadata": {
    "colab": {
     "base_uri": "https://localhost:8080/"
    },
    "executionInfo": {
     "elapsed": 5994,
     "status": "ok",
     "timestamp": 1632861213439,
     "user": {
      "displayName": "davide ghio",
      "photoUrl": "https://lh3.googleusercontent.com/a/default-user=s64",
      "userId": "16033550004002351519"
     },
     "user_tz": -120
    },
    "id": "Yor3C3h8YxA8",
    "outputId": "f3d6affd-e399-4922-9d16-051159dd051c"
   },
   "outputs": [
    {
     "name": "stdout",
     "output_type": "stream",
     "text": [
      "The difference in percentage of Group A was higher than the one of Group B 18 times out of 10000 trials\n"
     ]
    }
   ],
   "source": [
    "global_stat = np.concatenate((np.array(Men_1class['Survived']),  np.array(Men_3class['Survived'])))\n",
    "\n",
    "import random \n",
    "trials = 10000  ; count = 0\n",
    "\n",
    "l1 = len(np.array(Men_1class['Survived']))\n",
    "l3 = len(np.array(Men_3class['Survived']))\n",
    "\n",
    "for _ in range(trials):\n",
    "    random.shuffle(global_stat)\n",
    "    avg_A = sum(global_stat[:l1])/l1\n",
    "    avg_B = sum(global_stat[l3:])/l3\n",
    "    diff = avg_A - avg_B\n",
    "    if diff > dataset_property:\n",
    "        count +=1\n",
    "\n",
    "print(f\"The difference in percentage of Group A was higher than the one of Group B {count} times out of {trials} trials\") "
   ]
  },
  {
   "cell_type": "code",
   "execution_count": null,
   "metadata": {
    "id": "sCIO36gsdwzj"
   },
   "outputs": [],
   "source": []
  }
 ],
 "metadata": {
  "colab": {
   "collapsed_sections": [],
   "name": "FoIL_ex1_solved.ipynb",
   "provenance": []
  },
  "kernelspec": {
   "display_name": "Python 3 (ipykernel)",
   "language": "python",
   "name": "python3"
  },
  "language_info": {
   "codemirror_mode": {
    "name": "ipython",
    "version": 3
   },
   "file_extension": ".py",
   "mimetype": "text/x-python",
   "name": "python",
   "nbconvert_exporter": "python",
   "pygments_lexer": "ipython3",
   "version": "3.8.12"
  }
 },
 "nbformat": 4,
 "nbformat_minor": 4
}
